{
  "cells": [
    {
      "cell_type": "markdown",
      "source": [
        "* THE DATASET https://github.com/Jakobovski/free-spoken-digit-dataset/tree/master\n",
        "* https://docs.activeloop.ai/ Doesn't work\n",
        "* https://github.com/eonu/torch-fsdd crazy implementation\n",
        "\n"
      ],
      "metadata": {
        "id": "tQ04EZej9ucI"
      }
    },
    {
      "cell_type": "code",
      "source": [
        "%%shell\n",
        "pip install -q sktime\n",
        "\n",
        "# --- ENGLISH ---\n",
        "# Remove master.zip and download it from free-spoken-digit-dataset github.\n",
        "rm -f master.zip\n",
        "wget . https://github.com/Jakobovski/free-spoken-digit-dataset/archive/refs/heads/master.zip\n",
        "# Remove free-spoken-digit-dataset-master and unzip it from master.zip\n",
        "rm -rf free-spoken-digit-dataset-master\n",
        "unzip master.zip > /dev/null\n",
        "\n",
        "# --- ARABIC ---\n",
        "# Remove SpokenArabicDigits* download it from timeseriesclassification.com and unzip it.\n",
        "rm -rvf SpokenArabicDigits*\n",
        "wget . http://www.timeseriesclassification.com/Downloads/SpokenArabicDigits.zip\n",
        "unzip SpokenArabicDigits.zip > /dev/null"
      ],
      "metadata": {
        "colab": {
          "base_uri": "https://localhost:8080/"
        },
        "id": "gs6iSHjCSr2e",
        "outputId": "8954f62f-6831-481e-c68a-10bf3c5570e3"
      },
      "execution_count": 1,
      "outputs": [
        {
          "output_type": "stream",
          "name": "stdout",
          "text": [
            "--2023-06-05 18:19:56--  http://./\n",
            "Resolving . (.)... failed: No address associated with hostname.\n",
            "wget: unable to resolve host address ‘.’\n",
            "--2023-06-05 18:19:56--  https://github.com/Jakobovski/free-spoken-digit-dataset/archive/refs/heads/master.zip\n",
            "Resolving github.com (github.com)... 140.82.114.4\n",
            "Connecting to github.com (github.com)|140.82.114.4|:443... connected.\n",
            "HTTP request sent, awaiting response... 302 Found\n",
            "Location: https://codeload.github.com/Jakobovski/free-spoken-digit-dataset/zip/refs/heads/master [following]\n",
            "--2023-06-05 18:19:56--  https://codeload.github.com/Jakobovski/free-spoken-digit-dataset/zip/refs/heads/master\n",
            "Resolving codeload.github.com (codeload.github.com)... 140.82.113.10\n",
            "Connecting to codeload.github.com (codeload.github.com)|140.82.113.10|:443... connected.\n",
            "HTTP request sent, awaiting response... 200 OK\n",
            "Length: unspecified [application/zip]\n",
            "Saving to: ‘master.zip’\n",
            "\n",
            "master.zip              [      <=>           ]  15.66M  13.8MB/s    in 1.1s    \n",
            "\n",
            "2023-06-05 18:19:57 (13.8 MB/s) - ‘master.zip’ saved [16421388]\n",
            "\n",
            "FINISHED --2023-06-05 18:19:57--\n",
            "Total wall clock time: 1.5s\n",
            "Downloaded: 1 files, 16M in 1.1s (13.8 MB/s)\n",
            "removed 'SpokenArabicDigitsEq_TEST.ts'\n",
            "removed 'SpokenArabicDigitsEq_TRAIN.ts'\n",
            "removed 'SpokenArabicDigits.jpg'\n",
            "removed 'SpokenArabicDigits_TEST.ts'\n",
            "removed 'SpokenArabicDigits_TRAIN.ts'\n",
            "removed 'SpokenArabicDigits.txt'\n",
            "removed 'SpokenArabicDigits.zip'\n",
            "--2023-06-05 18:19:59--  http://./\n",
            "Resolving . (.)... failed: No address associated with hostname.\n",
            "wget: unable to resolve host address ‘.’\n",
            "--2023-06-05 18:19:59--  http://www.timeseriesclassification.com/Downloads/SpokenArabicDigits.zip\n",
            "Resolving www.timeseriesclassification.com (www.timeseriesclassification.com)... 109.123.71.232\n",
            "Connecting to www.timeseriesclassification.com (www.timeseriesclassification.com)|109.123.71.232|:80... connected.\n",
            "HTTP request sent, awaiting response... 200 OK\n",
            "Length: 82065250 (78M) [application/zip]\n",
            "Saving to: ‘SpokenArabicDigits.zip’\n",
            "\n",
            "SpokenArabicDigits. 100%[===================>]  78.26M  24.1MB/s    in 3.2s    \n",
            "\n",
            "2023-06-05 18:20:03 (24.1 MB/s) - ‘SpokenArabicDigits.zip’ saved [82065250/82065250]\n",
            "\n",
            "FINISHED --2023-06-05 18:20:03--\n",
            "Total wall clock time: 3.6s\n",
            "Downloaded: 1 files, 78M in 3.2s (24.1 MB/s)\n"
          ]
        },
        {
          "output_type": "execute_result",
          "data": {
            "text/plain": []
          },
          "metadata": {},
          "execution_count": 1
        }
      ]
    },
    {
      "cell_type": "code",
      "execution_count": 2,
      "metadata": {
        "id": "BfcKrj_9SqaN"
      },
      "outputs": [],
      "source": [
        "# Imports\n",
        "import IPython.display as ipd\n",
        "from IPython.display import Audio, display\n",
        "import librosa\n",
        "import matplotlib.pyplot as plt\n",
        "import pandas as pd\n",
        "from pathlib import Path\n",
        "from scipy import signal\n",
        "import torch\n",
        "from torch import nn\n",
        "from torch.utils.data import TensorDataset\n",
        "import torchaudio\n",
        "from torch.utils.data import Dataset, DataLoader\n",
        "import numpy as np\n",
        "from functools import partial\n",
        "\n",
        "from librosa.effects import (preemphasis, deemphasis,)\n",
        "from tqdm.auto import tqdm\n",
        "\n",
        "from torch.nn.utils.rnn import pad_sequence\n",
        "from collections import namedtuple\n",
        "\n",
        "from sktime.datasets import load_from_tsfile"
      ]
    },
    {
      "cell_type": "code",
      "execution_count": 3,
      "metadata": {
        "id": "HX-N2uljSqaP"
      },
      "outputs": [],
      "source": [
        "# Helper functions\n",
        "SAMPLING_RATE_HZ = 8000\n",
        "WINDOW = signal.windows.hamming\n",
        "\n",
        "first = lambda iterable: next(iter(iterable))\n",
        "\n",
        "def show_audio(audio):\n",
        "    plt.close()\n",
        "    plt.figure()\n",
        "    plt.title(\"audio\")\n",
        "    plt.plot(audio)\n",
        "    plt.show()\n",
        "\n",
        "play_audio = lambda a: ipd.Audio(a, rate=SAMPLING_RATE_HZ)\n",
        "\n",
        "show_and_play = lambda a: show_audio(a) or play_audio(a)\n",
        "\n",
        "load_audio = lambda a: librosa.load(a, sr=SAMPLING_RATE_HZ)[0]\n",
        "\n",
        "audio_to_mfcc = lambda a: librosa.feature.mfcc(y=a,\n",
        "                                               sr=SAMPLING_RATE_HZ,\n",
        "                                               window=WINDOW,\n",
        "                                               n_mfcc=13,\n",
        "                                              )\n",
        "\n",
        "mfcc_to_audio = lambda m: librosa.feature.inverse.mfcc_to_audio(m,\n",
        "                                                    sr=SAMPLING_RATE_HZ,\n",
        "                                                    window=WINDOW,\n",
        "                                                   )\n",
        "\n",
        "def tensor_from_iterable_of_arrays(feat, transpose=True, max_len=None):\n",
        "    var_len_idx = 1 if transpose else 0\n",
        "    if max_len is None:\n",
        "        max_len = max(r.shape[var_len_idx] for r in feat)\n",
        "    a = np.zeros((len(feat), max_len, 13))\n",
        "\n",
        "    # Left-padding\n",
        "    for i, m in enumerate(feat):\n",
        "        a[i, (max_len - m.shape[var_len_idx]):, :] = m.T if transpose else m\n",
        "\n",
        "    # Check\n",
        "    print('Check the padded subset equals the original')\n",
        "    display(\n",
        "        all(\n",
        "            np.allclose(\n",
        "                (a[idx, max_len-feat[idx].shape[var_len_idx]:, :].T\n",
        "                 if transpose\n",
        "                 else a[idx, max_len-feat[idx].shape[var_len_idx]:, :]),\n",
        "                        feat[idx])\n",
        "            for idx in range(a.shape[0])\n",
        "        )\n",
        "    )\n",
        "\n",
        "    features = torch.tensor(a, dtype=torch.float32)\n",
        "    features.shape\n",
        "    return features"
      ]
    },
    {
      "cell_type": "code",
      "source": [
        "# Choose device cuda or cpu\n",
        "DEVICE = torch.device('cuda:0' if torch.cuda.is_available() else 'cpu')"
      ],
      "metadata": {
        "id": "syID1dTrtIFM"
      },
      "execution_count": 4,
      "outputs": []
    },
    {
      "cell_type": "code",
      "execution_count": 5,
      "metadata": {
        "colab": {
          "base_uri": "https://localhost:8080/",
          "height": 510
        },
        "id": "BJ64TqixSqaQ",
        "outputId": "9778ceba-7749-4b7a-d24c-98ddc83c336e"
      },
      "outputs": [
        {
          "output_type": "display_data",
          "data": {
            "text/plain": [
              "<Figure size 640x480 with 1 Axes>"
            ],
            "image/png": "[encoded data removed]"
          },
          "metadata": {}
        },
        {
          "output_type": "execute_result",
          "data": {
            "text/plain": [
              "<IPython.lib.display.Audio object>"
            ],
            "text/html": [
              "\n",
              "                <audio  controls=\"controls\" >\n",
              "                    <source src=\"data:audio/wav;base64,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\" type=\"audio/wav\" />\n",
              "                    Your browser does not support the audio element.\n",
              "                </audio>\n",
              "              "
            ]
          },
          "metadata": {},
          "execution_count": 5
        }
      ],
      "source": [
        "# First look at the enlish data.\n",
        "example_path = first(\n",
        "    sorted(\n",
        "        Path('./free-spoken-digit-dataset-master/recordings').glob('*.wav')\n",
        "    )\n",
        ")\n",
        "\n",
        "example_audio = load_audio(example_path)\n",
        "show_and_play(example_audio)"
      ]
    },
    {
      "cell_type": "code",
      "execution_count": 6,
      "metadata": {
        "colab": {
          "base_uri": "https://localhost:8080/",
          "height": 510
        },
        "id": "bQju_KpESqaR",
        "outputId": "4f607b2b-3c1f-458d-d7e0-31d6cc69fbfe"
      },
      "outputs": [
        {
          "output_type": "display_data",
          "data": {
            "text/plain": [
              "<Figure size 640x480 with 1 Axes>"
            ],
            "image/png": "[encoded data removed]"
          },
          "metadata": {}
        },
        {
          "output_type": "execute_result",
          "data": {
            "text/plain": [
              "<IPython.lib.display.Audio object>"
            ],
            "text/html": [
              "\n",
              "                <audio  controls=\"controls\" >\n",
              "                    <source src=\"data:audio/wav;base64,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\" type=\"audio/wav\" />\n",
              "                    Your browser does not support the audio element.\n",
              "                </audio>\n",
              "              "
            ]
          },
          "metadata": {},
          "execution_count": 6
        }
      ],
      "source": [
        "# Sound recostruction from MFCC coefficients\n",
        "show_and_play(mfcc_to_audio(audio_to_mfcc(example_audio)))"
      ]
    },
    {
      "cell_type": "code",
      "execution_count": 7,
      "metadata": {
        "colab": {
          "base_uri": "https://localhost:8080/",
          "height": 510
        },
        "id": "60p2_maZSqaR",
        "outputId": "0e9ed131-68e9-43f5-c66d-45e73144c0e2"
      },
      "outputs": [
        {
          "output_type": "display_data",
          "data": {
            "text/plain": [
              "<Figure size 640x480 with 1 Axes>"
            ],
            "image/png": "[encoded data removed]"
          },
          "metadata": {}
        },
        {
          "output_type": "execute_result",
          "data": {
            "text/plain": [
              "<IPython.lib.display.Audio object>"
            ],
            "text/html": [
              "\n",
              "                <audio  controls=\"controls\" >\n",
              "                    <source src=\"data:audio/wav;base64,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\" type=\"audio/wav\" />\n",
              "                    Your browser does not support the audio element.\n",
              "                </audio>\n",
              "              "
            ]
          },
          "metadata": {},
          "execution_count": 7
        }
      ],
      "source": [
        "# With the preemphassis and deemphasis, as there are no transmission noises\n",
        "# the sound should be very close to equal of the preivous one.\n",
        "show_and_play(\n",
        "    deemphasis(\n",
        "        mfcc_to_audio(\n",
        "            audio_to_mfcc(\n",
        "                preemphasis(\n",
        "                    example_audio\n",
        "                )\n",
        "            )\n",
        "        )\n",
        "    )\n",
        ")"
      ]
    },
    {
      "cell_type": "code",
      "execution_count": 8,
      "metadata": {
        "colab": {
          "base_uri": "https://localhost:8080/",
          "height": 1000,
          "referenced_widgets": [
            "eb526a6c824b427dafa1f134d0476f38",
            "ab400a86715a4072badbda475287edb2",
            "b21d741e729d409e81c956a12bdb1804",
            "213574d8500b42fb94d78f04dadc359b",
            "0eef11b2337b4dfd9fdfa399a276eb2d",
            "2f95137a4c6443568f64188fb313581d",
            "7a0786cd1c604c618b3c4865cfc08518",
            "2475c3f7810241c19ce56767cd8030c2",
            "086576761dd248b397988a8e1436d3e9",
            "10fd1713fb99491e9c4dd086d193cc23",
            "8140b0c90cbc48a1a2adf027a24cb3c9"
          ]
        },
        "id": "aPRocriwSqaR",
        "outputId": "45018401-4e2c-4902-85c8-8270140a84e1"
      },
      "outputs": [
        {
          "output_type": "display_data",
          "data": {
            "text/plain": [
              "  0%|          | 0/3000 [00:00<?, ?it/s]"
            ],
            "application/vnd.jupyter.widget-view+json": {
              "version_major": 2,
              "version_minor": 0,
              "model_id": "eb526a6c824b427dafa1f134d0476f38"
            }
          },
          "metadata": {}
        },
        {
          "output_type": "stream",
          "name": "stderr",
          "text": [
            "/usr/local/lib/python3.10/dist-packages/librosa/core/spectrum.py:256: UserWarning: n_fft=2048 is too large for input signal of length=1933\n",
            "  warnings.warn(\n",
            "/usr/local/lib/python3.10/dist-packages/librosa/core/spectrum.py:256: UserWarning: n_fft=2048 is too large for input signal of length=1399\n",
            "  warnings.warn(\n",
            "/usr/local/lib/python3.10/dist-packages/librosa/core/spectrum.py:256: UserWarning: n_fft=2048 is too large for input signal of length=1876\n",
            "  warnings.warn(\n",
            "/usr/local/lib/python3.10/dist-packages/librosa/core/spectrum.py:256: UserWarning: n_fft=2048 is too large for input signal of length=1983\n",
            "  warnings.warn(\n",
            "/usr/local/lib/python3.10/dist-packages/librosa/core/spectrum.py:256: UserWarning: n_fft=2048 is too large for input signal of length=2033\n",
            "  warnings.warn(\n",
            "/usr/local/lib/python3.10/dist-packages/librosa/core/spectrum.py:256: UserWarning: n_fft=2048 is too large for input signal of length=1963\n",
            "  warnings.warn(\n",
            "/usr/local/lib/python3.10/dist-packages/librosa/core/spectrum.py:256: UserWarning: n_fft=2048 is too large for input signal of length=2007\n",
            "  warnings.warn(\n",
            "/usr/local/lib/python3.10/dist-packages/librosa/core/spectrum.py:256: UserWarning: n_fft=2048 is too large for input signal of length=1976\n",
            "  warnings.warn(\n",
            "/usr/local/lib/python3.10/dist-packages/librosa/core/spectrum.py:256: UserWarning: n_fft=2048 is too large for input signal of length=1987\n",
            "  warnings.warn(\n",
            "/usr/local/lib/python3.10/dist-packages/librosa/core/spectrum.py:256: UserWarning: n_fft=2048 is too large for input signal of length=1886\n",
            "  warnings.warn(\n",
            "/usr/local/lib/python3.10/dist-packages/librosa/core/spectrum.py:256: UserWarning: n_fft=2048 is too large for input signal of length=1842\n",
            "  warnings.warn(\n",
            "/usr/local/lib/python3.10/dist-packages/librosa/core/spectrum.py:256: UserWarning: n_fft=2048 is too large for input signal of length=1753\n",
            "  warnings.warn(\n",
            "/usr/local/lib/python3.10/dist-packages/librosa/core/spectrum.py:256: UserWarning: n_fft=2048 is too large for input signal of length=1870\n",
            "  warnings.warn(\n",
            "/usr/local/lib/python3.10/dist-packages/librosa/core/spectrum.py:256: UserWarning: n_fft=2048 is too large for input signal of length=1813\n",
            "  warnings.warn(\n",
            "/usr/local/lib/python3.10/dist-packages/librosa/core/spectrum.py:256: UserWarning: n_fft=2048 is too large for input signal of length=1891\n",
            "  warnings.warn(\n",
            "/usr/local/lib/python3.10/dist-packages/librosa/core/spectrum.py:256: UserWarning: n_fft=2048 is too large for input signal of length=1788\n",
            "  warnings.warn(\n",
            "/usr/local/lib/python3.10/dist-packages/librosa/core/spectrum.py:256: UserWarning: n_fft=2048 is too large for input signal of length=1556\n",
            "  warnings.warn(\n",
            "/usr/local/lib/python3.10/dist-packages/librosa/core/spectrum.py:256: UserWarning: n_fft=2048 is too large for input signal of length=1997\n",
            "  warnings.warn(\n",
            "/usr/local/lib/python3.10/dist-packages/librosa/core/spectrum.py:256: UserWarning: n_fft=2048 is too large for input signal of length=1720\n",
            "  warnings.warn(\n",
            "/usr/local/lib/python3.10/dist-packages/librosa/core/spectrum.py:256: UserWarning: n_fft=2048 is too large for input signal of length=1692\n",
            "  warnings.warn(\n",
            "/usr/local/lib/python3.10/dist-packages/librosa/core/spectrum.py:256: UserWarning: n_fft=2048 is too large for input signal of length=1565\n",
            "  warnings.warn(\n",
            "/usr/local/lib/python3.10/dist-packages/librosa/core/spectrum.py:256: UserWarning: n_fft=2048 is too large for input signal of length=1737\n",
            "  warnings.warn(\n",
            "/usr/local/lib/python3.10/dist-packages/librosa/core/spectrum.py:256: UserWarning: n_fft=2048 is too large for input signal of length=1760\n",
            "  warnings.warn(\n",
            "/usr/local/lib/python3.10/dist-packages/librosa/core/spectrum.py:256: UserWarning: n_fft=2048 is too large for input signal of length=1890\n",
            "  warnings.warn(\n",
            "/usr/local/lib/python3.10/dist-packages/librosa/core/spectrum.py:256: UserWarning: n_fft=2048 is too large for input signal of length=1785\n",
            "  warnings.warn(\n",
            "/usr/local/lib/python3.10/dist-packages/librosa/core/spectrum.py:256: UserWarning: n_fft=2048 is too large for input signal of length=2016\n",
            "  warnings.warn(\n",
            "/usr/local/lib/python3.10/dist-packages/librosa/core/spectrum.py:256: UserWarning: n_fft=2048 is too large for input signal of length=1932\n",
            "  warnings.warn(\n",
            "/usr/local/lib/python3.10/dist-packages/librosa/core/spectrum.py:256: UserWarning: n_fft=2048 is too large for input signal of length=2035\n",
            "  warnings.warn(\n",
            "/usr/local/lib/python3.10/dist-packages/librosa/core/spectrum.py:256: UserWarning: n_fft=2048 is too large for input signal of length=1493\n",
            "  warnings.warn(\n",
            "/usr/local/lib/python3.10/dist-packages/librosa/core/spectrum.py:256: UserWarning: n_fft=2048 is too large for input signal of length=1525\n",
            "  warnings.warn(\n",
            "/usr/local/lib/python3.10/dist-packages/librosa/core/spectrum.py:256: UserWarning: n_fft=2048 is too large for input signal of length=1742\n",
            "  warnings.warn(\n",
            "/usr/local/lib/python3.10/dist-packages/librosa/core/spectrum.py:256: UserWarning: n_fft=2048 is too large for input signal of length=1866\n",
            "  warnings.warn(\n",
            "/usr/local/lib/python3.10/dist-packages/librosa/core/spectrum.py:256: UserWarning: n_fft=2048 is too large for input signal of length=1914\n",
            "  warnings.warn(\n",
            "/usr/local/lib/python3.10/dist-packages/librosa/core/spectrum.py:256: UserWarning: n_fft=2048 is too large for input signal of length=1568\n",
            "  warnings.warn(\n",
            "/usr/local/lib/python3.10/dist-packages/librosa/core/spectrum.py:256: UserWarning: n_fft=2048 is too large for input signal of length=1627\n",
            "  warnings.warn(\n",
            "/usr/local/lib/python3.10/dist-packages/librosa/core/spectrum.py:256: UserWarning: n_fft=2048 is too large for input signal of length=1772\n",
            "  warnings.warn(\n",
            "/usr/local/lib/python3.10/dist-packages/librosa/core/spectrum.py:256: UserWarning: n_fft=2048 is too large for input signal of length=1597\n",
            "  warnings.warn(\n",
            "/usr/local/lib/python3.10/dist-packages/librosa/core/spectrum.py:256: UserWarning: n_fft=2048 is too large for input signal of length=1801\n",
            "  warnings.warn(\n",
            "/usr/local/lib/python3.10/dist-packages/librosa/core/spectrum.py:256: UserWarning: n_fft=2048 is too large for input signal of length=1475\n",
            "  warnings.warn(\n",
            "/usr/local/lib/python3.10/dist-packages/librosa/core/spectrum.py:256: UserWarning: n_fft=2048 is too large for input signal of length=1852\n",
            "  warnings.warn(\n",
            "/usr/local/lib/python3.10/dist-packages/librosa/core/spectrum.py:256: UserWarning: n_fft=2048 is too large for input signal of length=1953\n",
            "  warnings.warn(\n",
            "/usr/local/lib/python3.10/dist-packages/librosa/core/spectrum.py:256: UserWarning: n_fft=2048 is too large for input signal of length=1819\n",
            "  warnings.warn(\n",
            "/usr/local/lib/python3.10/dist-packages/librosa/core/spectrum.py:256: UserWarning: n_fft=2048 is too large for input signal of length=1664\n",
            "  warnings.warn(\n",
            "/usr/local/lib/python3.10/dist-packages/librosa/core/spectrum.py:256: UserWarning: n_fft=2048 is too large for input signal of length=1962\n",
            "  warnings.warn(\n",
            "/usr/local/lib/python3.10/dist-packages/librosa/core/spectrum.py:256: UserWarning: n_fft=2048 is too large for input signal of length=1639\n",
            "  warnings.warn(\n",
            "/usr/local/lib/python3.10/dist-packages/librosa/core/spectrum.py:256: UserWarning: n_fft=2048 is too large for input signal of length=1601\n",
            "  warnings.warn(\n",
            "/usr/local/lib/python3.10/dist-packages/librosa/core/spectrum.py:256: UserWarning: n_fft=2048 is too large for input signal of length=1288\n",
            "  warnings.warn(\n",
            "/usr/local/lib/python3.10/dist-packages/librosa/core/spectrum.py:256: UserWarning: n_fft=2048 is too large for input signal of length=1910\n",
            "  warnings.warn(\n",
            "/usr/local/lib/python3.10/dist-packages/librosa/core/spectrum.py:256: UserWarning: n_fft=2048 is too large for input signal of length=1854\n",
            "  warnings.warn(\n",
            "/usr/local/lib/python3.10/dist-packages/librosa/core/spectrum.py:256: UserWarning: n_fft=2048 is too large for input signal of length=1807\n",
            "  warnings.warn(\n",
            "/usr/local/lib/python3.10/dist-packages/librosa/core/spectrum.py:256: UserWarning: n_fft=2048 is too large for input signal of length=1704\n",
            "  warnings.warn(\n",
            "/usr/local/lib/python3.10/dist-packages/librosa/core/spectrum.py:256: UserWarning: n_fft=2048 is too large for input signal of length=1896\n",
            "  warnings.warn(\n",
            "/usr/local/lib/python3.10/dist-packages/librosa/core/spectrum.py:256: UserWarning: n_fft=2048 is too large for input signal of length=2042\n",
            "  warnings.warn(\n",
            "/usr/local/lib/python3.10/dist-packages/librosa/core/spectrum.py:256: UserWarning: n_fft=2048 is too large for input signal of length=2037\n",
            "  warnings.warn(\n",
            "/usr/local/lib/python3.10/dist-packages/librosa/core/spectrum.py:256: UserWarning: n_fft=2048 is too large for input signal of length=1943\n",
            "  warnings.warn(\n",
            "/usr/local/lib/python3.10/dist-packages/librosa/core/spectrum.py:256: UserWarning: n_fft=2048 is too large for input signal of length=2027\n",
            "  warnings.warn(\n",
            "/usr/local/lib/python3.10/dist-packages/librosa/core/spectrum.py:256: UserWarning: n_fft=2048 is too large for input signal of length=1906\n",
            "  warnings.warn(\n",
            "/usr/local/lib/python3.10/dist-packages/librosa/core/spectrum.py:256: UserWarning: n_fft=2048 is too large for input signal of length=1900\n",
            "  warnings.warn(\n",
            "/usr/local/lib/python3.10/dist-packages/librosa/core/spectrum.py:256: UserWarning: n_fft=2048 is too large for input signal of length=2034\n",
            "  warnings.warn(\n",
            "/usr/local/lib/python3.10/dist-packages/librosa/core/spectrum.py:256: UserWarning: n_fft=2048 is too large for input signal of length=1973\n",
            "  warnings.warn(\n",
            "/usr/local/lib/python3.10/dist-packages/librosa/core/spectrum.py:256: UserWarning: n_fft=2048 is too large for input signal of length=1531\n",
            "  warnings.warn(\n",
            "/usr/local/lib/python3.10/dist-packages/librosa/core/spectrum.py:256: UserWarning: n_fft=2048 is too large for input signal of length=1541\n",
            "  warnings.warn(\n",
            "/usr/local/lib/python3.10/dist-packages/librosa/core/spectrum.py:256: UserWarning: n_fft=2048 is too large for input signal of length=1640\n",
            "  warnings.warn(\n",
            "/usr/local/lib/python3.10/dist-packages/librosa/core/spectrum.py:256: UserWarning: n_fft=2048 is too large for input signal of length=1547\n",
            "  warnings.warn(\n",
            "/usr/local/lib/python3.10/dist-packages/librosa/core/spectrum.py:256: UserWarning: n_fft=2048 is too large for input signal of length=1516\n",
            "  warnings.warn(\n",
            "/usr/local/lib/python3.10/dist-packages/librosa/core/spectrum.py:256: UserWarning: n_fft=2048 is too large for input signal of length=1609\n",
            "  warnings.warn(\n",
            "/usr/local/lib/python3.10/dist-packages/librosa/core/spectrum.py:256: UserWarning: n_fft=2048 is too large for input signal of length=1455\n",
            "  warnings.warn(\n",
            "/usr/local/lib/python3.10/dist-packages/librosa/core/spectrum.py:256: UserWarning: n_fft=2048 is too large for input signal of length=1650\n",
            "  warnings.warn(\n",
            "/usr/local/lib/python3.10/dist-packages/librosa/core/spectrum.py:256: UserWarning: n_fft=2048 is too large for input signal of length=1960\n",
            "  warnings.warn(\n",
            "/usr/local/lib/python3.10/dist-packages/librosa/core/spectrum.py:256: UserWarning: n_fft=2048 is too large for input signal of length=1837\n",
            "  warnings.warn(\n",
            "/usr/local/lib/python3.10/dist-packages/librosa/core/spectrum.py:256: UserWarning: n_fft=2048 is too large for input signal of length=1712\n",
            "  warnings.warn(\n",
            "/usr/local/lib/python3.10/dist-packages/librosa/core/spectrum.py:256: UserWarning: n_fft=2048 is too large for input signal of length=1774\n",
            "  warnings.warn(\n",
            "/usr/local/lib/python3.10/dist-packages/librosa/core/spectrum.py:256: UserWarning: n_fft=2048 is too large for input signal of length=1884\n",
            "  warnings.warn(\n",
            "/usr/local/lib/python3.10/dist-packages/librosa/core/spectrum.py:256: UserWarning: n_fft=2048 is too large for input signal of length=1805\n",
            "  warnings.warn(\n",
            "/usr/local/lib/python3.10/dist-packages/librosa/core/spectrum.py:256: UserWarning: n_fft=2048 is too large for input signal of length=1713\n",
            "  warnings.warn(\n",
            "/usr/local/lib/python3.10/dist-packages/librosa/core/spectrum.py:256: UserWarning: n_fft=2048 is too large for input signal of length=2023\n",
            "  warnings.warn(\n",
            "/usr/local/lib/python3.10/dist-packages/librosa/core/spectrum.py:256: UserWarning: n_fft=2048 is too large for input signal of length=1915\n",
            "  warnings.warn(\n",
            "/usr/local/lib/python3.10/dist-packages/librosa/core/spectrum.py:256: UserWarning: n_fft=2048 is too large for input signal of length=1931\n",
            "  warnings.warn(\n",
            "/usr/local/lib/python3.10/dist-packages/librosa/core/spectrum.py:256: UserWarning: n_fft=2048 is too large for input signal of length=1793\n",
            "  warnings.warn(\n",
            "/usr/local/lib/python3.10/dist-packages/librosa/core/spectrum.py:256: UserWarning: n_fft=2048 is too large for input signal of length=1824\n",
            "  warnings.warn(\n",
            "/usr/local/lib/python3.10/dist-packages/librosa/core/spectrum.py:256: UserWarning: n_fft=2048 is too large for input signal of length=1579\n",
            "  warnings.warn(\n",
            "/usr/local/lib/python3.10/dist-packages/librosa/core/spectrum.py:256: UserWarning: n_fft=2048 is too large for input signal of length=1817\n",
            "  warnings.warn(\n",
            "/usr/local/lib/python3.10/dist-packages/librosa/core/spectrum.py:256: UserWarning: n_fft=2048 is too large for input signal of length=1958\n",
            "  warnings.warn(\n",
            "/usr/local/lib/python3.10/dist-packages/librosa/core/spectrum.py:256: UserWarning: n_fft=2048 is too large for input signal of length=1560\n",
            "  warnings.warn(\n",
            "/usr/local/lib/python3.10/dist-packages/librosa/core/spectrum.py:256: UserWarning: n_fft=2048 is too large for input signal of length=1795\n",
            "  warnings.warn(\n",
            "/usr/local/lib/python3.10/dist-packages/librosa/core/spectrum.py:256: UserWarning: n_fft=2048 is too large for input signal of length=2036\n",
            "  warnings.warn(\n",
            "/usr/local/lib/python3.10/dist-packages/librosa/core/spectrum.py:256: UserWarning: n_fft=2048 is too large for input signal of length=1846\n",
            "  warnings.warn(\n",
            "/usr/local/lib/python3.10/dist-packages/librosa/core/spectrum.py:256: UserWarning: n_fft=2048 is too large for input signal of length=1803\n",
            "  warnings.warn(\n",
            "/usr/local/lib/python3.10/dist-packages/librosa/core/spectrum.py:256: UserWarning: n_fft=2048 is too large for input signal of length=1945\n",
            "  warnings.warn(\n",
            "/usr/local/lib/python3.10/dist-packages/librosa/core/spectrum.py:256: UserWarning: n_fft=2048 is too large for input signal of length=2001\n",
            "  warnings.warn(\n",
            "/usr/local/lib/python3.10/dist-packages/librosa/core/spectrum.py:256: UserWarning: n_fft=2048 is too large for input signal of length=1892\n",
            "  warnings.warn(\n",
            "/usr/local/lib/python3.10/dist-packages/librosa/core/spectrum.py:256: UserWarning: n_fft=2048 is too large for input signal of length=2005\n",
            "  warnings.warn(\n",
            "/usr/local/lib/python3.10/dist-packages/librosa/core/spectrum.py:256: UserWarning: n_fft=2048 is too large for input signal of length=1697\n",
            "  warnings.warn(\n",
            "/usr/local/lib/python3.10/dist-packages/librosa/core/spectrum.py:256: UserWarning: n_fft=2048 is too large for input signal of length=1903\n",
            "  warnings.warn(\n",
            "/usr/local/lib/python3.10/dist-packages/librosa/core/spectrum.py:256: UserWarning: n_fft=2048 is too large for input signal of length=1919\n",
            "  warnings.warn(\n",
            "/usr/local/lib/python3.10/dist-packages/librosa/core/spectrum.py:256: UserWarning: n_fft=2048 is too large for input signal of length=1832\n",
            "  warnings.warn(\n",
            "/usr/local/lib/python3.10/dist-packages/librosa/core/spectrum.py:256: UserWarning: n_fft=2048 is too large for input signal of length=2039\n",
            "  warnings.warn(\n",
            "/usr/local/lib/python3.10/dist-packages/librosa/core/spectrum.py:256: UserWarning: n_fft=2048 is too large for input signal of length=1873\n",
            "  warnings.warn(\n",
            "/usr/local/lib/python3.10/dist-packages/librosa/core/spectrum.py:256: UserWarning: n_fft=2048 is too large for input signal of length=1632\n",
            "  warnings.warn(\n",
            "/usr/local/lib/python3.10/dist-packages/librosa/core/spectrum.py:256: UserWarning: n_fft=2048 is too large for input signal of length=1806\n",
            "  warnings.warn(\n",
            "/usr/local/lib/python3.10/dist-packages/librosa/core/spectrum.py:256: UserWarning: n_fft=2048 is too large for input signal of length=2022\n",
            "  warnings.warn(\n",
            "/usr/local/lib/python3.10/dist-packages/librosa/core/spectrum.py:256: UserWarning: n_fft=2048 is too large for input signal of length=2014\n",
            "  warnings.warn(\n",
            "/usr/local/lib/python3.10/dist-packages/librosa/core/spectrum.py:256: UserWarning: n_fft=2048 is too large for input signal of length=2045\n",
            "  warnings.warn(\n",
            "/usr/local/lib/python3.10/dist-packages/librosa/core/spectrum.py:256: UserWarning: n_fft=2048 is too large for input signal of length=1790\n",
            "  warnings.warn(\n",
            "/usr/local/lib/python3.10/dist-packages/librosa/core/spectrum.py:256: UserWarning: n_fft=2048 is too large for input signal of length=1705\n",
            "  warnings.warn(\n",
            "/usr/local/lib/python3.10/dist-packages/librosa/core/spectrum.py:256: UserWarning: n_fft=2048 is too large for input signal of length=1359\n",
            "  warnings.warn(\n",
            "/usr/local/lib/python3.10/dist-packages/librosa/core/spectrum.py:256: UserWarning: n_fft=2048 is too large for input signal of length=1673\n",
            "  warnings.warn(\n",
            "/usr/local/lib/python3.10/dist-packages/librosa/core/spectrum.py:256: UserWarning: n_fft=2048 is too large for input signal of length=1970\n",
            "  warnings.warn(\n",
            "/usr/local/lib/python3.10/dist-packages/librosa/core/spectrum.py:256: UserWarning: n_fft=2048 is too large for input signal of length=1761\n",
            "  warnings.warn(\n",
            "/usr/local/lib/python3.10/dist-packages/librosa/core/spectrum.py:256: UserWarning: n_fft=2048 is too large for input signal of length=1722\n",
            "  warnings.warn(\n",
            "/usr/local/lib/python3.10/dist-packages/librosa/core/spectrum.py:256: UserWarning: n_fft=2048 is too large for input signal of length=1850\n",
            "  warnings.warn(\n",
            "/usr/local/lib/python3.10/dist-packages/librosa/core/spectrum.py:256: UserWarning: n_fft=2048 is too large for input signal of length=1843\n",
            "  warnings.warn(\n",
            "/usr/local/lib/python3.10/dist-packages/librosa/core/spectrum.py:256: UserWarning: n_fft=2048 is too large for input signal of length=1778\n",
            "  warnings.warn(\n",
            "/usr/local/lib/python3.10/dist-packages/librosa/core/spectrum.py:256: UserWarning: n_fft=2048 is too large for input signal of length=1433\n",
            "  warnings.warn(\n",
            "/usr/local/lib/python3.10/dist-packages/librosa/core/spectrum.py:256: UserWarning: n_fft=2048 is too large for input signal of length=1296\n",
            "  warnings.warn(\n",
            "/usr/local/lib/python3.10/dist-packages/librosa/core/spectrum.py:256: UserWarning: n_fft=2048 is too large for input signal of length=2012\n",
            "  warnings.warn(\n",
            "/usr/local/lib/python3.10/dist-packages/librosa/core/spectrum.py:256: UserWarning: n_fft=2048 is too large for input signal of length=1911\n",
            "  warnings.warn(\n",
            "/usr/local/lib/python3.10/dist-packages/librosa/core/spectrum.py:256: UserWarning: n_fft=2048 is too large for input signal of length=1569\n",
            "  warnings.warn(\n",
            "/usr/local/lib/python3.10/dist-packages/librosa/core/spectrum.py:256: UserWarning: n_fft=2048 is too large for input signal of length=1434\n",
            "  warnings.warn(\n",
            "/usr/local/lib/python3.10/dist-packages/librosa/core/spectrum.py:256: UserWarning: n_fft=2048 is too large for input signal of length=1295\n",
            "  warnings.warn(\n",
            "/usr/local/lib/python3.10/dist-packages/librosa/core/spectrum.py:256: UserWarning: n_fft=2048 is too large for input signal of length=1403\n",
            "  warnings.warn(\n",
            "/usr/local/lib/python3.10/dist-packages/librosa/core/spectrum.py:256: UserWarning: n_fft=2048 is too large for input signal of length=1634\n",
            "  warnings.warn(\n",
            "/usr/local/lib/python3.10/dist-packages/librosa/core/spectrum.py:256: UserWarning: n_fft=2048 is too large for input signal of length=1357\n",
            "  warnings.warn(\n",
            "/usr/local/lib/python3.10/dist-packages/librosa/core/spectrum.py:256: UserWarning: n_fft=2048 is too large for input signal of length=1968\n",
            "  warnings.warn(\n",
            "/usr/local/lib/python3.10/dist-packages/librosa/core/spectrum.py:256: UserWarning: n_fft=2048 is too large for input signal of length=1593\n",
            "  warnings.warn(\n",
            "/usr/local/lib/python3.10/dist-packages/librosa/core/spectrum.py:256: UserWarning: n_fft=2048 is too large for input signal of length=1913\n",
            "  warnings.warn(\n",
            "/usr/local/lib/python3.10/dist-packages/librosa/core/spectrum.py:256: UserWarning: n_fft=2048 is too large for input signal of length=1149\n",
            "  warnings.warn(\n",
            "/usr/local/lib/python3.10/dist-packages/librosa/core/spectrum.py:256: UserWarning: n_fft=2048 is too large for input signal of length=1610\n",
            "  warnings.warn(\n",
            "/usr/local/lib/python3.10/dist-packages/librosa/core/spectrum.py:256: UserWarning: n_fft=2048 is too large for input signal of length=1259\n",
            "  warnings.warn(\n",
            "/usr/local/lib/python3.10/dist-packages/librosa/core/spectrum.py:256: UserWarning: n_fft=2048 is too large for input signal of length=1251\n",
            "  warnings.warn(\n",
            "/usr/local/lib/python3.10/dist-packages/librosa/core/spectrum.py:256: UserWarning: n_fft=2048 is too large for input signal of length=1302\n",
            "  warnings.warn(\n",
            "/usr/local/lib/python3.10/dist-packages/librosa/core/spectrum.py:256: UserWarning: n_fft=2048 is too large for input signal of length=1988\n",
            "  warnings.warn(\n",
            "/usr/local/lib/python3.10/dist-packages/librosa/core/spectrum.py:256: UserWarning: n_fft=2048 is too large for input signal of length=1294\n",
            "  warnings.warn(\n",
            "/usr/local/lib/python3.10/dist-packages/librosa/core/spectrum.py:256: UserWarning: n_fft=2048 is too large for input signal of length=1446\n",
            "  warnings.warn(\n",
            "/usr/local/lib/python3.10/dist-packages/librosa/core/spectrum.py:256: UserWarning: n_fft=2048 is too large for input signal of length=1830\n",
            "  warnings.warn(\n",
            "/usr/local/lib/python3.10/dist-packages/librosa/core/spectrum.py:256: UserWarning: n_fft=2048 is too large for input signal of length=1440\n",
            "  warnings.warn(\n",
            "/usr/local/lib/python3.10/dist-packages/librosa/core/spectrum.py:256: UserWarning: n_fft=2048 is too large for input signal of length=1710\n",
            "  warnings.warn(\n",
            "/usr/local/lib/python3.10/dist-packages/librosa/core/spectrum.py:256: UserWarning: n_fft=2048 is too large for input signal of length=1714\n",
            "  warnings.warn(\n",
            "/usr/local/lib/python3.10/dist-packages/librosa/core/spectrum.py:256: UserWarning: n_fft=2048 is too large for input signal of length=1381\n",
            "  warnings.warn(\n",
            "/usr/local/lib/python3.10/dist-packages/librosa/core/spectrum.py:256: UserWarning: n_fft=2048 is too large for input signal of length=1868\n",
            "  warnings.warn(\n",
            "/usr/local/lib/python3.10/dist-packages/librosa/core/spectrum.py:256: UserWarning: n_fft=2048 is too large for input signal of length=1410\n",
            "  warnings.warn(\n",
            "/usr/local/lib/python3.10/dist-packages/librosa/core/spectrum.py:256: UserWarning: n_fft=2048 is too large for input signal of length=1542\n",
            "  warnings.warn(\n",
            "/usr/local/lib/python3.10/dist-packages/librosa/core/spectrum.py:256: UserWarning: n_fft=2048 is too large for input signal of length=1682\n",
            "  warnings.warn(\n",
            "/usr/local/lib/python3.10/dist-packages/librosa/core/spectrum.py:256: UserWarning: n_fft=2048 is too large for input signal of length=1148\n",
            "  warnings.warn(\n",
            "/usr/local/lib/python3.10/dist-packages/librosa/core/spectrum.py:256: UserWarning: n_fft=2048 is too large for input signal of length=1838\n",
            "  warnings.warn(\n",
            "/usr/local/lib/python3.10/dist-packages/librosa/core/spectrum.py:256: UserWarning: n_fft=2048 is too large for input signal of length=1502\n",
            "  warnings.warn(\n",
            "/usr/local/lib/python3.10/dist-packages/librosa/core/spectrum.py:256: UserWarning: n_fft=2048 is too large for input signal of length=1763\n",
            "  warnings.warn(\n",
            "/usr/local/lib/python3.10/dist-packages/librosa/core/spectrum.py:256: UserWarning: n_fft=2048 is too large for input signal of length=1450\n",
            "  warnings.warn(\n",
            "/usr/local/lib/python3.10/dist-packages/librosa/core/spectrum.py:256: UserWarning: n_fft=2048 is too large for input signal of length=1538\n",
            "  warnings.warn(\n",
            "/usr/local/lib/python3.10/dist-packages/librosa/core/spectrum.py:256: UserWarning: n_fft=2048 is too large for input signal of length=1833\n",
            "  warnings.warn(\n",
            "/usr/local/lib/python3.10/dist-packages/librosa/core/spectrum.py:256: UserWarning: n_fft=2048 is too large for input signal of length=1443\n",
            "  warnings.warn(\n",
            "/usr/local/lib/python3.10/dist-packages/librosa/core/spectrum.py:256: UserWarning: n_fft=2048 is too large for input signal of length=2043\n",
            "  warnings.warn(\n",
            "/usr/local/lib/python3.10/dist-packages/librosa/core/spectrum.py:256: UserWarning: n_fft=2048 is too large for input signal of length=1567\n",
            "  warnings.warn(\n",
            "/usr/local/lib/python3.10/dist-packages/librosa/core/spectrum.py:256: UserWarning: n_fft=2048 is too large for input signal of length=1781\n",
            "  warnings.warn(\n",
            "/usr/local/lib/python3.10/dist-packages/librosa/core/spectrum.py:256: UserWarning: n_fft=2048 is too large for input signal of length=1978\n",
            "  warnings.warn(\n",
            "/usr/local/lib/python3.10/dist-packages/librosa/core/spectrum.py:256: UserWarning: n_fft=2048 is too large for input signal of length=1965\n",
            "  warnings.warn(\n",
            "/usr/local/lib/python3.10/dist-packages/librosa/core/spectrum.py:256: UserWarning: n_fft=2048 is too large for input signal of length=2020\n",
            "  warnings.warn(\n",
            "/usr/local/lib/python3.10/dist-packages/librosa/core/spectrum.py:256: UserWarning: n_fft=2048 is too large for input signal of length=1998\n",
            "  warnings.warn(\n",
            "/usr/local/lib/python3.10/dist-packages/librosa/core/spectrum.py:256: UserWarning: n_fft=2048 is too large for input signal of length=2044\n",
            "  warnings.warn(\n",
            "/usr/local/lib/python3.10/dist-packages/librosa/core/spectrum.py:256: UserWarning: n_fft=2048 is too large for input signal of length=1858\n",
            "  warnings.warn(\n",
            "/usr/local/lib/python3.10/dist-packages/librosa/core/spectrum.py:256: UserWarning: n_fft=2048 is too large for input signal of length=1936\n",
            "  warnings.warn(\n",
            "/usr/local/lib/python3.10/dist-packages/librosa/core/spectrum.py:256: UserWarning: n_fft=2048 is too large for input signal of length=2015\n",
            "  warnings.warn(\n",
            "/usr/local/lib/python3.10/dist-packages/librosa/core/spectrum.py:256: UserWarning: n_fft=2048 is too large for input signal of length=1880\n",
            "  warnings.warn(\n",
            "/usr/local/lib/python3.10/dist-packages/librosa/core/spectrum.py:256: UserWarning: n_fft=2048 is too large for input signal of length=1749\n",
            "  warnings.warn(\n",
            "/usr/local/lib/python3.10/dist-packages/librosa/core/spectrum.py:256: UserWarning: n_fft=2048 is too large for input signal of length=1995\n",
            "  warnings.warn(\n"
          ]
        }
      ],
      "source": [
        "# Load the enlish data and do basic preprocessing\n",
        "FEAT, TARG, SPEAKER, PATH = zip(*[(audio_to_mfcc(preemphasis(load_audio(path))),\n",
        "        int((target_speaker_attempt := path.stem.split('_'))[0]),\n",
        "        target_speaker_attempt[1],\n",
        "        str(path),\n",
        "       )\n",
        "    for path in tqdm(\n",
        "        sorted(\n",
        "            Path('./free-spoken-digit-dataset-master/recordings').glob('*.wav')))\n",
        "]\n",
        ")"
      ]
    },
    {
      "cell_type": "code",
      "source": [
        "# Load the arabic data and do the basic preprocesisng\n",
        "feat_train_arabic, targ_train_arabic = load_from_tsfile('SpokenArabicDigits_TRAIN.ts')\n",
        "feat_test_arabic, targ_test_arabic = load_from_tsfile('SpokenArabicDigits_TEST.ts')\n",
        "\n",
        "feat_train_arabic_iterable = [\n",
        "    pd.concat([x for x in feat_train_arabic.iloc[row, :]], axis=1).to_numpy()\n",
        "    for row in tqdm(range(feat_train_arabic.shape[0]))\n",
        "]\n",
        "feat_test_arabic_iterable = [\n",
        "    pd.concat([x for x in feat_test_arabic.iloc[row, :]], axis=1).to_numpy()\n",
        "    for row in tqdm(range(feat_test_arabic.shape[0]))\n",
        "]"
      ],
      "metadata": {
        "colab": {
          "base_uri": "https://localhost:8080/",
          "height": 81,
          "referenced_widgets": [
            "6053c9fbcbd04acab826410fa7569a95",
            "dd0f0b6f94f244238a2f7b55797c5ab3",
            "4b52ce52efa7498796481795cca9c8bc",
            "65f1f48837734b44886d6a19b12f5d55",
            "86a7ad95f7ea41e38710b97562a6b25a",
            "289751bc1664479aa618e17bb24b2e6a",
            "b8b3aee9a49640789a54e9423463118f",
            "48008d93998248c481105a5f0c720e7f",
            "04784fbc9e2c487abc7c213c6328ac75",
            "31ba9a6f97b54a2c894a9c05779fd04d",
            "9a7d5ba6252846b99221d8226aa41b62",
            "b7ff114b2bc64f709fac3b72bb4c308a",
            "e4b89bc88baf4586adad019aefb96521",
            "d77fbd8564fc4e8994dc8e72b2345449",
            "9412a35f3946450f9b3812e728ebe3b6",
            "f5ba95ef378e421294ad9b4807486416",
            "c46f729fc20d46afa329c493ddfb3d29",
            "0efa24978ce94062bb5ce7a695b3e990",
            "5e7a090707eb4a50add16c8f9d99a4b4",
            "8a74af2420ae4a8d8e3c9949d90f6543",
            "98b7561289b64c23a21a4d5b726e78d8",
            "99a9b016a7aa47849edd12cc46820201"
          ]
        },
        "id": "WKsHehMuiDzl",
        "outputId": "719d18d5-dc6c-4161-e1bf-bffdd91fcb7d"
      },
      "execution_count": 9,
      "outputs": [
        {
          "output_type": "display_data",
          "data": {
            "text/plain": [
              "  0%|          | 0/6599 [00:00<?, ?it/s]"
            ],
            "application/vnd.jupyter.widget-view+json": {
              "version_major": 2,
              "version_minor": 0,
              "model_id": "6053c9fbcbd04acab826410fa7569a95"
            }
          },
          "metadata": {}
        },
        {
          "output_type": "display_data",
          "data": {
            "text/plain": [
              "  0%|          | 0/2199 [00:00<?, ?it/s]"
            ],
            "application/vnd.jupyter.widget-view+json": {
              "version_major": 2,
              "version_minor": 0,
              "model_id": "b7ff114b2bc64f709fac3b72bb4c308a"
            }
          },
          "metadata": {}
        }
      ]
    },
    {
      "cell_type": "code",
      "execution_count": 10,
      "metadata": {
        "colab": {
          "base_uri": "https://localhost:8080/",
          "height": 107
        },
        "id": "uJbmGaNXSqaS",
        "outputId": "593fafb6-53ac-4adb-ce98-9211fd49c090"
      },
      "outputs": [
        {
          "output_type": "stream",
          "name": "stdout",
          "text": [
            "Check the padded subset equals the original\n"
          ]
        },
        {
          "output_type": "display_data",
          "data": {
            "text/plain": [
              "True"
            ]
          },
          "metadata": {}
        },
        {
          "output_type": "display_data",
          "data": {
            "text/plain": [
              "torch.Size([3000])"
            ]
          },
          "metadata": {}
        },
        {
          "output_type": "display_data",
          "data": {
            "text/plain": [
              "{'george': 0, 'jackson': 1, 'lucas': 2, 'nicolas': 3, 'theo': 4, 'yweweler': 5}"
            ]
          },
          "metadata": {}
        },
        {
          "output_type": "display_data",
          "data": {
            "text/plain": [
              "tensor([0, 0, 0,  ..., 5, 5, 5])"
            ]
          },
          "metadata": {}
        }
      ],
      "source": [
        "# ENGLISH\n",
        "# Creates tensor \"features\" with shape (samples,seq_len,mfcc_features)\n",
        "features = tensor_from_iterable_of_arrays(FEAT, transpose=True)\n",
        "\n",
        "# Creates \"targets\" tensor\n",
        "targets = torch.tensor(TARG)\n",
        "display(targets.shape)\n",
        "\n",
        "# Creates tensor indicating speakers by speaker nubmers\n",
        "# using helper mapping from speaker name to number\n",
        "name_to_num = {name: num for num, name in enumerate(sorted(set(SPEAKER)))}\n",
        "\n",
        "speakers = torch.tensor([name_to_num[name] for name in SPEAKER])\n",
        "\n",
        "display(name_to_num, speakers)"
      ]
    },
    {
      "cell_type": "code",
      "source": [
        "# ARABIC\n",
        "features_train_arabic = tensor_from_iterable_of_arrays(\n",
        "    feat_train_arabic_iterable, transpose=False)\n",
        "\n",
        "features_test_arabic = tensor_from_iterable_of_arrays(\n",
        "    feat_test_arabic_iterable, transpose=False, max_len=93)\n",
        "\n",
        "display(\n",
        "    features_train_arabic.shape,\n",
        "    features_test_arabic.shape\n",
        ")\n",
        "\n",
        "targets_train_arabic = torch.tensor([int(i) if i != '10' else 0\n",
        "                                     for i in targ_train_arabic])\n",
        "targets_test_arabic = torch.tensor([int(i) if i != '10' else 0\n",
        "                                    for i in targ_test_arabic])\n",
        "\n",
        "display(\n",
        "    targets_train_arabic.shape,\n",
        "    targets_test_arabic.shape\n",
        ")"
      ],
      "metadata": {
        "colab": {
          "base_uri": "https://localhost:8080/",
          "height": 161
        },
        "id": "i5gDzyh7iaHK",
        "outputId": "c3f9a44c-8921-4e07-8763-8de860e2d9df"
      },
      "execution_count": 11,
      "outputs": [
        {
          "output_type": "stream",
          "name": "stdout",
          "text": [
            "Check the padded subset equals the original\n"
          ]
        },
        {
          "output_type": "display_data",
          "data": {
            "text/plain": [
              "True"
            ]
          },
          "metadata": {}
        },
        {
          "output_type": "stream",
          "name": "stdout",
          "text": [
            "Check the padded subset equals the original\n"
          ]
        },
        {
          "output_type": "display_data",
          "data": {
            "text/plain": [
              "True"
            ]
          },
          "metadata": {}
        },
        {
          "output_type": "display_data",
          "data": {
            "text/plain": [
              "torch.Size([6599, 93, 13])"
            ]
          },
          "metadata": {}
        },
        {
          "output_type": "display_data",
          "data": {
            "text/plain": [
              "torch.Size([2199, 93, 13])"
            ]
          },
          "metadata": {}
        },
        {
          "output_type": "display_data",
          "data": {
            "text/plain": [
              "torch.Size([6599])"
            ]
          },
          "metadata": {}
        },
        {
          "output_type": "display_data",
          "data": {
            "text/plain": [
              "torch.Size([2199])"
            ]
          },
          "metadata": {}
        }
      ]
    },
    {
      "cell_type": "code",
      "execution_count": 12,
      "metadata": {
        "colab": {
          "base_uri": "https://localhost:8080/",
          "height": 125
        },
        "id": "Wf5CZGqISqaT",
        "outputId": "01bcd887-ea90-40b3-a8f4-7ddc3f4d8f84"
      },
      "outputs": [
        {
          "output_type": "stream",
          "name": "stdout",
          "text": [
            "train: [1, 3, 4]\n",
            "val:   [0, 2]\n",
            "test:  [5]\n"
          ]
        },
        {
          "output_type": "display_data",
          "data": {
            "text/plain": [
              "torch.Size([1500])"
            ]
          },
          "metadata": {}
        },
        {
          "output_type": "display_data",
          "data": {
            "text/plain": [
              "torch.Size([1000])"
            ]
          },
          "metadata": {}
        },
        {
          "output_type": "display_data",
          "data": {
            "text/plain": [
              "torch.Size([500])"
            ]
          },
          "metadata": {}
        }
      ],
      "source": [
        "# ENLISH - from features and targets to Dataloaders\n",
        "# Choose speakers for the \"trian\", \"val\" and \"test\" data.\n",
        "if (RANDOM := False):\n",
        "    perms = np.random.permutation(list(name_to_num.values()))\n",
        "    train, val, test = perms[:3], perms[3:5], perms[5:]\n",
        "else:\n",
        "    train, val, test = ([1, 3, 4], [0, 2], [5])\n",
        "\n",
        "print(\n",
        "    f'train: {train}',\n",
        "    f'val:   {val}',\n",
        "    f'test:  {test}',\n",
        "    sep='\\n',\n",
        ")\n",
        "\n",
        "test_idx = sum(speakers == i for i in test).nonzero().squeeze()\n",
        "val_idx = sum(speakers == i for i in val).nonzero().squeeze()\n",
        "train_idx = sum(speakers == i for i in train).nonzero().squeeze()\n",
        "\n",
        "display(\n",
        "    train_idx.shape, val_idx.shape, test_idx.shape\n",
        ")\n",
        "\n",
        "train_ds = TensorDataset(features[train_idx], targets[train_idx])\n",
        "val_ds = TensorDataset(features[val_idx], targets[val_idx])\n",
        "test_ds = TensorDataset(features[test_idx], targets[test_idx])\n",
        "\n",
        "TRAIN_ENGLISH_LOADER = DataLoader(train_ds, batch_size=32, shuffle=True)\n",
        "VAL_ENGLISH_LOADER = DataLoader(val_ds, batch_size=32, shuffle=True)\n",
        "TEST_ENGLISH_LOADER = DataLoader(test_ds, batch_size=32, shuffle=True)"
      ]
    },
    {
      "cell_type": "code",
      "source": [
        "# ARABIC - from features and targets to Dataloaders\n",
        "generator = torch.Generator().manual_seed(42)\n",
        "train_arabic_ds, val_arabic_ds = torch.utils.data.random_split(\n",
        "    TensorDataset(features_train_arabic, targets_train_arabic),\n",
        "    [0.7, 0.3], generator=generator\n",
        ")\n",
        "test_arabic_ds = TensorDataset(features_test_arabic, targets_test_arabic)\n",
        "\n",
        "TRAIN_ARABIC_LOADER = DataLoader(train_arabic_ds, batch_size=32, shuffle=True)\n",
        "VAL_ARABIC_LOADER = DataLoader(val_arabic_ds, batch_size=32, shuffle=True)\n",
        "TEST_ARABIC_LOADER = DataLoader(test_arabic_ds, batch_size=32, shuffle=True)"
      ],
      "metadata": {
        "id": "D1HmxTdMi2Xb"
      },
      "execution_count": 13,
      "outputs": []
    },
    {
      "cell_type": "code",
      "source": [
        "# IMPORTANT!\n",
        "# Chose enlish or arabic dataloaders by commenting one of the lines.\n",
        "\n",
        "(TRAIN_LOADER,\n",
        " VAL_LOADER,\n",
        " TEST_LOADER) =  (\n",
        "      TRAIN_ENGLISH_LOADER, VAL_ENGLISH_LOADER, TEST_ENGLISH_LOADER,\n",
        "      # TRAIN_ARABIC_LOADER, VAL_ARABIC_LOADER, TEST_ARABIC_LOADER,\n",
        ")"
      ],
      "metadata": {
        "id": "N4Ol_zMgjg5e"
      },
      "execution_count": 14,
      "outputs": []
    },
    {
      "cell_type": "code",
      "execution_count": 15,
      "metadata": {
        "colab": {
          "base_uri": "https://localhost:8080/"
        },
        "id": "MfTuJFpwSqaU",
        "outputId": "e12367b5-cf79-4de7-957e-09bfd2a611e1"
      },
      "outputs": [
        {
          "output_type": "execute_result",
          "data": {
            "text/plain": [
              "(torch.Size([32, 36, 13]), torch.Size([32]))"
            ]
          },
          "metadata": {},
          "execution_count": 15
        }
      ],
      "source": [
        "# Look at the data from dataloader\n",
        "feat_example, targ_example = next(iter(TRAIN_LOADER))\n",
        "feat_example.shape, targ_example.shape"
      ]
    },
    {
      "cell_type": "code",
      "source": [
        "# Plot of the features\n",
        "plt.plot(feat_example[0])"
      ],
      "metadata": {
        "colab": {
          "base_uri": "https://localhost:8080/",
          "height": 664
        },
        "id": "Hz35EUSaTVHQ",
        "outputId": "7b423899-9f6e-44a5-c86f-ac08512c6ba1"
      },
      "execution_count": 16,
      "outputs": [
        {
          "output_type": "execute_result",
          "data": {
            "text/plain": [
              "[<matplotlib.lines.Line2D at 0x7fa898b158d0>,\n",
              " <matplotlib.lines.Line2D at 0x7fa898b15a80>,\n",
              " <matplotlib.lines.Line2D at 0x7fa898b15b70>,\n",
              " <matplotlib.lines.Line2D at 0x7fa898b15c60>,\n",
              " <matplotlib.lines.Line2D at 0x7fa898b15d50>,\n",
              " <matplotlib.lines.Line2D at 0x7fa898b15e40>,\n",
              " <matplotlib.lines.Line2D at 0x7fa898b148b0>,\n",
              " <matplotlib.lines.Line2D at 0x7fa898b15f00>,\n",
              " <matplotlib.lines.Line2D at 0x7fa898b15ff0>,\n",
              " <matplotlib.lines.Line2D at 0x7fa898b160e0>,\n",
              " <matplotlib.lines.Line2D at 0x7fa898b161d0>,\n",
              " <matplotlib.lines.Line2D at 0x7fa898b16290>,\n",
              " <matplotlib.lines.Line2D at 0x7fa898b16380>]"
            ]
          },
          "metadata": {},
          "execution_count": 16
        },
        {
          "output_type": "display_data",
          "data": {
            "text/plain": [
              "<Figure size 640x480 with 1 Axes>"
            ],
            "image/png": "[encoded data removed]"
          },
          "metadata": {}
        }
      ]
    },
    {
      "cell_type": "code",
      "source": [
        "# Example converted to sound (check if human could classify it).\n",
        "EXAMPLE_IDX = 15 # 0-31\n",
        "show_and_play(\n",
        "    deemphasis(\n",
        "        mfcc_to_audio(\n",
        "            (arr :=  feat_example[EXAMPLE_IDX].numpy().T)[:, (arr == 0).argmin():]\n",
        "        )\n",
        "    )\n",
        ")"
      ],
      "metadata": {
        "colab": {
          "base_uri": "https://localhost:8080/",
          "height": 510
        },
        "id": "-XqGd-eFTreF",
        "outputId": "62525daa-d3b2-4195-c569-2ba0bbbc1102"
      },
      "execution_count": 17,
      "outputs": [
        {
          "output_type": "display_data",
          "data": {
            "text/plain": [
              "<Figure size 640x480 with 1 Axes>"
            ],
            "image/png": "[encoded data removed]"
          },
          "metadata": {}
        },
        {
          "output_type": "execute_result",
          "data": {
            "text/plain": [
              "<IPython.lib.display.Audio object>"
            ],
            "text/html": [
              "\n",
              "                <audio  controls=\"controls\" >\n",
              "                    <source src=\"data:audio/wav;base64,UklGRiQcAABXQVZFZm10IBAAAAABAAEAQB8AAIA+AAACABAAZGF0YQAcAADn/7v9Xv9e+8UBbP+oADIAfv7v/1f+c/2z/VH9ef5FAQP/hf5SAEj+rP+I///+gf0n/1P/P/5z/gn/XP21AqD+OvsDAvn9sQGW/0n/nv4tARz+XwAY/jcB0f0VAhn8hwAQ/6sB1P21ALAAwAC4/a//3v0lAPD+P/04/7/+bwEuAU3+JgFX/jkCQ//9/L4DDfvwAYT+AgHsAFP+H/8/AAj/JQK4/kgD0f34Ax/9+wLA/KgCBACt/iIEav7CAJMAqv6vBLEAsP0vAdb8rP4PAKn+IAJt//IBAf5qASEAbwBn/xAAdQKi/roCtPwjAfv7ngFNABgDC/1fAzb7wf/ZABD/CgJt/4gA5P3JAMsBvv3PAPv+NAGRBHoAMwArAUX+nAED/0UBGf4I/mwDR/o0BBL93wLEAdv/TQE4/eYAEvz//dcA6vvWAcL6WQE/ASAA+AKo/5QG2//jBA8B4wBmAtT9QAJK+UoEIvqaAdz8YgDx/tz/Bf9r/wwC4/8j/4EDAADkAY7+Bf1f/+H9dgKR/nYBGf9ZAWH/MwD7/sUAIf3d/uT/df9NAa8AAAALAfX97QHnALsCSv61AcT8SwIJ/kQBygLW/VABAf75BgX59wST/GH/nP72/5P+Nv0UAbf99ANu/skC8wGxA9wBdwL7AI4AgQHg/9r/sP9K/OoC0vkmALkCLPwuBWH9gwURAZkDqgTC//3/7vyN/dr7HP3t+AL/Z/4i/sz6mQA8Adr68AVb//EBTgCKAfkALgJnAGj7fP9hALP7VQM3+m8ACgXhANb+hwnW+SIKLfoMBLf+1v4i/O//cPYAAkoBgPxRCbT/+QSKBoIB4AMw/sgCf/uYAYP1uvuq+v/9HwH7+P4It/ZNCwL7Gwcf/eH/X/9h/KP/4wJk+1n+mAFNAPX+W/0fB6oBTwIW/6H9swIR/kYD9AOKAGkA/gPO+T8I9PkDAyv/Sv3kAvT+rQC/A1IClANAAEQEOv8l/5L/qf7r+gr7Iv8s/Nb+IwC2AKADdf3CAjz8FQV6+yMEDPzUBeH8cv+B+joJT/pSAM0FtPzoAbEAI/7oAgcFV//vAmIAsgRV/p4DJP21Ai37AgL//pP/Pv9H/4H/+wL8AOP9lAPE+y8EfP9TAOgAbACe+soA3f21/qT8aABsAUH94gLO/aYF+gQ6BHYCFQHIBu//8/2NBVj85wFD/eQD6APZAHwI5AjpA0wEywQm/7L+gwM4+2P9Fv8q/Cb9cv7W/uECJwQSASwBSAAFBEL+Ef6IAc/66/yI/9D3vv9TAOX9iP//ALUD9AEZAIoEEwKRA6372wGw/zT+eQCP+KsGrf05/X8CSgUtA5gA+wH5A24Bdfub/j7/Hvu3+rf7Kv7Q/b76KgQ0/EAEy/wb/3sEd/4v/XT/0vvy+5X6GgEe/j/9GgMrA18Dif6XB4QCGQOL/OsD0/sLASz+8gJ4+3AD0v4JA6oCFgBpB1ECUAWxANsB1AGk/g38Ef1y/4v75PxJ/17/cwOI/HsE1f4RArkAlwA3/1f88vt7/iL6cv2K+WEB8v9mALX+vAAtAn/8ewDa/2j8gv6v/Fb5NPo4+Qz8QP3t+LT76/2U+q78of7A/EL6HPzE/N34OPva+Wb5YP89+jr8Mfx2/nYAWPwf/DQBwf0k/rD8Rv6g+2IAd/2I/DkAof2w/lz9JABt/0b9yf7i/bL+EQH9/JUAGv5//kv9/vqY/iT/yPx6/ND6Ef89/6P7vf0cAKkBAQDx/aMCaP7f/LUBqPxF/soB0P0h/nr/7f4PA3sCUgPRBcT/cQZDAeQC7QI1/44B+QA//ZcAO/2QAoD+1wDIA0sBewODAG0CXQFaAT7/Lf/J/5H8Zf2q/aD/lQCE/cUDuP7lAuj9YQLT/73/RgE1/wz9vAI8/+v75P+OARb/HQN2/UkEhf+zAFoCrv2JAlf+3f2U/78A4/86AokAnP/5BAYArAPzAacCpgNSAZkBGwNK/wcDjP/b/p0DKQBHBY8AkAE5AhUAZANGAvL8wgJm/KD/oPtY/w78ePxLAU/7LQA0ABL8zALG+TQBPv1F/I39hvqk+nL+TPsL/zb9tP9A/qD9QQG6+gQGCvy5AGv77f/W/jT96P/y/eYAhQJa/PoD5P74BIIA2P9JA5IAzgQ//uoDt/6cAC4DF/+GBewBegIxAmYCwwO+AHACX/9sAab/Wf+s/478Tf6F/lL88wOM/BkAJwJAAJ8EpAAiAU8EG/8SBHP+KgGa/+f7o/1Q/bv+awA7/2MBqwISA2wCHQQcALsFJP8V/z/9l/yN+vD8qfkC+nH+pfy4ArT+NAQ/Bq4IzAY1BPQBFgO1Ao3+bfwb/GIBgvwP/Sf/IPwABjMCOwKRBjEDdga5AuwAigE5/J0AePvO/jv+G/2UADECuv88BrcB0gd/AyIDfQFQAdf/NgB4/v/5Zf7K/gj/oQK3/osEzwIUBSEFIP6lA28Ahf7I/oP3kP04+1P4vv1e/KwEDgQTAd0GJQYYBugFCQMXAWEBT/xi+KL4e/sr+nT6+/uD/R0BRAGEBLECtgi3AYMDTQP2/ngEkfrJA+39SgLJ/w0B7QKLBHwF7wK1Bj8GJwR5AeL/I/90/+z6vP+m+eD/yv47/FQAA/w0Atf/k/8KAOj8UP5CAQ74IwHj+1D/ywJ7/QAAZgLNBdIECQRFAdYFoAJEABH8g/rE94YAhvVP+Az4FfpB/ov96/xfAQYBGwnE/9cELgYOBIgGj/8b/OoBnQC3/gb6Mf+X/gUFt/9HAswCvARmAqT7lv6W+mwBvPgG/p/8nP7oAuT+sQMxAWIGrwceBF8FWv1RAEIBK/o993H4GP+SBGP/gAJtAbkOrQRdCYD7LQWwAzH59vah+Lb01vnN+hf30AQmBtsClAoJCikSkw1vB8YFF/qCAE/yxfLu9jvzvPe+9pPzjPxF/nAASAfMAbMHcwnJBkAFvQrY/u0BaAS597L+BvZL9OQAPPwnAYj68Py6A7cIpPpp9oH5LP5LBLn2zPh4AGAGqwcGBAIF1g1iCSAEVQM/CTcLAgDK9v3yYvjb9ezpSuaB8e3yKvZpAGr18wxfExYPYQ8wGhIO2RRwCbv9mwfw/fT2h/bJ82n4SvrX9/D8aAf5CyQCqgSSAXsKjQjC/Ov2hwIe97ftdfBT4zz21QSW9CP88/Xm+F8GugfwBhMa/hquJQwmyiEdHDoXGR3OBSL+LvJ34zHq5s3dy7nTE9YQ4DvyAvhWD2EZHRokIAIdOhjmBUX3mO1l25jYmNIG2aPvOfaPAMYbaC36N+FKq1PBU1lapUeDMKYm6gHr59HM+qlLl56bAYAWla6UIKgnvRzZagEwGQA3wUVzUgdpO2dOXnpkdESHPAolagL5+Ffl/tWxz23SDsg5zzHLas0K5/Lj5eVK+D4ENf/cGU4LKwuMGz4HTBL3DhsNRhyiKcoriiDVGREHgPWV1ybVGtQN0DDkvOLS7qkNYATeC28m+BjRHEYlAxOvFUAVA/cU/dsCyvKf5R7x2+r+8Rj5hvFj9pYIVPrt7gTw5fGS41vusvvt8g4b2hrYFMspmiwXFQQD6/pp7hvwkumw3U76GRhODbQZ/DQUMgMjyA+89CzpddkPxw7EfdvE8jn7OggaJtQhZRtJF3P7vPT57BDVutrs4brnsOW4At4JAgpRGakmrhpHFzsdWhTx/HIBUgPU8PDwnfW18VbzoPeY+0YGqwo2Cd8VeB9EE8gZgB5PDEb8ZPZT6Fbaad2f4iLVfuQ++jX0xe+BCNEYIAXzAsINfv/p7oHpRvDl8FLi+faCDpIIpQfcGUgk9xaZENEUXwt6/G36IAKn9Zjvk/bf/MMD9Py6D+USARXSF/AVHQtdEu4Na/gf6af7ovkl0s/ZiQJb+NjcCPu2GmIEBvR+BGMOyf+x6Xj0s/8N9uDq8vSRC70Dqfn+DvoYrwY/DgwTOQEi/3YNYfhy7AURXAvm6O0CJBzY/aTwGRGOCfbtl/fCB6z4+PozCGgCOgNGEKUEWfZRC6QNmPIG+3gRfwHq8W0ITQ8m8mT/hhGQ+3TvmAPBCHvsFvBZC4wA1+xW/wgSov5G8o0MaA8D+YL0ExKFCjf2uP+MCCf/rfat+3MAw/uT9kn6qQFpBn36ewBgEMIJ7/VbAV4QP/1f8koJ/wpN+bH+QA/mCL7/MgTJE9EK6gFhA88Rfwzg9ygC3wyV/xb63QJGBqv8mfqOCQwAFfxmAh4F1QBE/fn3jv4AALj6zfhqAv8IMAFo/DAA9gYZ/7f+Qf9AAmv5NPl3/iD5mPrp+af+/v8L/T4B/gi2ANwCwwq3CC3/VgL0BxEEYvk1AVoEbAAV/1L/OAaABxQHTAclCzgKMwpxBLgEfAUM/d78pPuS+/D8qvlW+yQAgv5xAg//AAUQAmkD1ADJ/GL91/2t+t733vov+8X83vz0/v3/LQGJ/kIDov8PA/L8c/x6/Cr4qPUy9wn5+/Qy9OX+bvul9cD4RPvF/I73EfxO/ej71Pug9uX3q/hC/AD5ffj0+5j89gDY/aT8Kv6GAOr6QvlC/zX5Rfu4+jb5K/3H+uL/RPyn/nwAtv/0AH0DngIF/3EAKAFB/uL8Sv8w/fwBS/+dAGgD0gIsBq4CYwaBAkQGSgQfAB8AoPzBABb/PP9gAQ39KwL1AOwCMgGZAXgFswHhAK0DN/+UAMP8z/nR/ib82v2wABH+3wAwAK/8LwKgAfwBoP+s/ugAhf4I/UH80/3T/RMAjfyI/yH+a/5w/jj+3fzEAOr65vws/rD6lv8m/WH/IwEX/ZgCXAKIATkCtv4+A+UA0v46/SH9C/36+4b6//0F/ez+5f4h+33/ygByAFcB7AL8ABABZv1E/4T7X/yq/mH7gwDz/b7/6wHb/DoBs//zAakAUwD/AFgAwP/M/Mj//Prx/Ab9Yfu8//T/WQBx/4L8/gJe/ocAQP+V/3T9qP43/hL/yP6B/f/9N/1S/7cAl/yLAk3+ywDJ/fj8e/7//Wf5rftX/gv/oP4G/Y8C8QFH/3AB/v/YAEQAQf4bAH8ARwN2/p7/zP3JAxsAxwAv/5UDFAFBAMsB6f34AAr9rvoP+ZT44frd+8D9C/p2AJL/CQFi/UQDSgD+AWgC+f44AZ8AyAB//mL92v4c/+gA9f9SAT4DbgGgA40AgAHl/vj7hv6Z+238DPjm+rj8ffw3AoL7HAQzBJgGdgWTBBwJAweGBCYBIgKlAicAjP0DAL77/AIOADf+vAIB/10GaAOpAZQDjQNiAxr/Yv6IAKf9CwGa+yP8bfyM/i/9c//PAMAEvQUcBZ8HwAI8B8wBpgKiASMDAf+DATj9gv9h/kD+3v7F/3YBQgDTAQwBwgQLAYYAsgAhAecBmwCRAigC0wG4/3X/PQGsAP7+NvwS/o/60/wr/Wn9gf4t/ykCvgKiAosDlAAFA0UC5wD8/ur/1f6dBIP/vADVASICrP9MAcz/0wPQAeIEiP7zAAL9tP/y/JH78QCU/6YDWP8oAp8DtABeAjAB0ACQ/iIDQwLH/6YAQ/+SBVIBxv4r/+gE7AK2AkoBLQTHAtYEQQCA/BIAiv549279rPdZAG/97vtMAVv+aAJxADkDwwKhBJAEywNeAtIC9ALyAPD7p/7zALz80f9a/1gDwgO5ApkGpQVrAmEEVwC9ApL/JvvU/cLxu/lK9rX2q/nK+x3/uP/5Av8CWQXrBu0EbwP/BYYBjwUO/6cCLPzPAob+kfXzACL6sf3C/t7+NgKG/4MDJv/aApn/Pf55Axz/OgRh/TkH2/8K/xf/jfjo+5P6Yfmu/OT7Yv+bAHL/UARJBjcK/QICCcwBaQRZ/8v6LP53/H/86f76+r79pQAg/hv6fv6w/kz9dQL6+6X/aP5F/F35hgDv+WL7vv2V/2gBwv5FAMYAzQnMAw8GIgXfAD0HIwPYAy8A8wCBAPsAov6k+/38C/0u/M7+D//M/K/7Fv79+Wb8XQF5/UoBBQQmAGwBEQD0AcACggDEBDcCFALsAW7+0gZ0/U//MgOQA3D7p/md+P74R/7S+xoAagGuB18JeQiRBeADbQhxASL/yvu9+yD7XgAqAZ0CBQNM/1gI7QH//rEB0/06//H7Ev5S+RX6Jvj8+1f9KQFtA2AGIgDpBewHrwPd/DD6BPuB+yD2tvdA+q0C5wLeBfgGyQWTB28HFwDoAtkBsgAY+4L6Bvug/gb/QP+dAOv24Pt1/FD3D/cn/AwBswMxCZIEwAk1CgIEXwYJByEEzQAWBsr77f5P+pX22PrQA3v+xvw3AyYL+QSuCN3+hP7/DN4IqwV8Agz9DvneABgBaPbQ+Cb4rQP+C8MNKQM7ALsKzxG/CCIC3v2HAEMK8QRp/mP7f/1zBY0KJwEeAW///ARFCAUG/gI6BOX4twG0Bjv/Wf749Sn64Pw4Bb39tvj3+ZAC3gKM/n//MQEGAtkJ0AHGBpf+ogPICLwLSARwApsBWfuP90sB+QAfBfgIuf2QAMsDfAQj/Uj72e1s/d378fyj+0EF6vtJC5sLBQkGBGkAG/++/6j/IfxqAnX5OQAPBSD3CADxANv9jf9DAbf/DQC1Alv5bfcqAv4Cp/zv+WD5WANl/zMJfQAQ/of9XfrxBPb6wv98AJn4if3I+3j8oP+t/9j6z/1y+rP6QgRpAGIBYgDT+ugFXAbfATP8cvZH+VoI2/+2/hD8cwTLAbYCD/9C/jD6yQPOArj7CfsDAzMD9/cOAOL0wAXUA+MKhgHNBH0AYQTQ/dT0ufrF/j0EJPsA+wD/zP+2AngBbwGeA2kCewm7/FIAjv1b+Un6mflJAjv6qPctAKr93/qlBCIBFP5o/rf5G/3RBfgBAv9p+Q4FYwA3BRD9eAGIARQDivyLAXcBBf7mAfn5AwId/0P+zf69AZj9ZgcW/CIKkgA8Ab8BS/sN9xkApv9v+7IA9wOvADIDdfy8AcD7qQLx/x3+Ov3iAub9Kfe1/b7/JgB//mr/kwNM+i8APv5n+yP/BQPC+zb/MgIuAasHfvs4BI/8r/97C376aQQ3/RsJpAFxAVv+KgjHAzYAh/trAc0A7ftu/ZH1rgNcAh38oABXAxv/bgKl/7H/uP2m+agAl/tI/fkDH/9GCCYC8wPa+CwDWf+B+6v31fscBCYCYvxy/oEABAKW9w4E1PuOCJn3zwUT/isCPf3/Bd/6fQM8/kcCdgEO/h8Bh/e1ATr7y/zXAFoANf8b/LX+MwGa/JL69QNdAFcI7vzCBXMBuwJTAg/+VgXN+wIBgvnJ+6X7KAQcA3/+ugEeALsBFQNU/u8AZgPJ/df/Ovk1BBQExvizAJz/fP+K/JUD3/daCDX2yQcr+XEC8AGkADD/2QQN/+v/EwU9++MDAfvNAO37kgTn/B4A8AZgAKUCw/1C+qsCsPSNA5sBxQOC/eH/iwAX/9T79gMgAbX+nvomAFwAAPpsAJz+gASt/eb/JwYx/Zr9ZfpiBLz2X//H+awFIfw//RcFevmKCez0HAfdAbb8JwU+ADD/pvsbAwD/Igkz8C0OKvT/BXr97/8OBrIB5v5mAB37iwSY+l4AIgDZ/XcDGPq2AgP7QQISADD/a/66Aw3+KwGA+LIEJgJm+aQJLviOCCgB3vk9C0f4YAcx/k/8pQhW/QwADwbT9dgGr/9z/H8DIgOS/RYCRf2CBjX+QPy9AaECOf0CA/3/wwFtA4X47gZt+UEEQPwW/Z0E7/SnC135QQF4/7T9iAKy/+L5XAgJ+dwFNf2wBj78jQa/+8YFA/y2/cMDwv+AAIr6ngKLAAgAWvlTBzv7GgRZ+yMD9wPv/AEG3vvZBnv9Rf9q/nsBlf/t/m8FmQBVAg3/ywC1Ae36DQVG/usItPnBBDr99geM99kC2wA3BO79RP99BFgDePsQBO32ZQ3q98MGPvt+CZH5DAV1+b4DKf8r/WMEZ/xMA2H9OgLb/vgC0gDTAUcA4f+v/5UBR/yIATIAef/r/eQBmf5WAhP4Bgm28TwQiOvtFQ7qrxH+9joC3gFQ+ZMJevaSA+X8BgEnAdj9eQMo/CwC5/4dAcb+aABlAd/7KAgy9JQIZPhMAUQCWPYOB578ewIjAKb67we2+cMGffoaBEoBhfrhAqf8+f6cA5z41AlH+fIAiAVh+eUHwvctA2cEBfYqDK7xWAv39FIDjwC4+5sD2PhnClv37AWa+wgCO/0w/zj/LACF/8IDB/mcBgv9twPI+qAFFQCj+/cGFPUMDiXwuA5I9s4D4v+Y/JEGzPdvB6T7Gwfz+skCPgEmABD5DAYQ+UsFa/uqACEGPPrJBVj9ngC2/nQBUvx4BIX9lALEABb9UAN3/Qj+vwGq/PoBAv9qAT/9VQLj/DsACgD0/539Yf4EBPz1rwas+koDC/y1AWkA3vhqBvD7VgJe/c7/mwB5/0b+ZgLg+KkG9PaeCbT0twlt+0AAxgFtAKcA1PtqATX/S/51/wYD6/ytAvP7zwHT+aQCv/2nAbn93gSY/FQAev+CASX+KwHH/oUBLgHT+IwGNPrm/zkArQGSAUX5Iwma/CkAXv5iACMDY/bHBWb87v0P/0gCowJ//GEDvgHL/NwB6/+a/zcBvv7mA1j3IAKn+IP9UACR+zIFf/7p/qIAqv84AJ/7VAdR/qr/swHY/cEAcflIBQL+sQNg/MIE9vXZBar6Tv+RALUAuAOq/UIFF/4SBML8GABT+k8FPf4kA/j9tQUC/EoHkvY9CfD+1/4QAOgEFf66/mcCdvttAmX8hQIAAZT/YAM+Bbz9WwDx/3cG7PtVAz7+//2e/m0Cd/mWBGr8Rf89AT7+Vf5qBkUAowAYAur7WAIE/yABMPxCAC//rv5y/SID9AEt+c0Ijfg7Aa4DjgGK/XAFzgHW+dwBfP6l/UUBHASp/yX7RgQdBQ8ApP/lAP8AAv1fAV3/9gB6/G4C1wHMA/j74wZT/08EzgPIAx/90gYk/Sb/1f6zAs77WQdiArf/zf43Au3+ywF4BH0BpALGAmkChwEdBWv9NArv+KMCOv01+sz7SAN/AJkEoAdc+zADuAEpBRQFzv/zAJoAFwJI9x7+gP82/wEIIQSNAN//3QEn+QAAJQFmAOn+6AAl/ZD8hv7Y/kYC1gE4BUwFjwMNBq/7dvrbAij/v/xrAeX6uwAHA4P3BwIL+VsBywFKABcCiQBt/JYBSwGzATz+//84CPL8Mwwe+9b8WPxe/WH9lvxd+TMAmfuTBDn+YQQ8AwD+S/wnBSH8vvmR/dwDXv3xAE76PA7a+hgEyPwJBM/8zQT0+VT61fxU+xAB0Psu/zv/Lggl/bUFIAIFA9//JQHrAGH7ZQc5/L8BG/pPALn+3f+z+RMBiQExA+H+VgQWAgUFA/+6/KsAKf6V+oQBEP7EAmD+0f88ARYBGQXJ/D4FMP/kAHD8BQDt/ssFAP8bA4v+YQJt/rT9f/yZAPb0+AHH+DYBVPzMA1r7KAkj/HgJp/whC0X+DgcPA9AClP5j+63/Df/++33+TQWg+kkGIgDkB2EGtv2bBhr/ygC2/Sr+iv1kABT4U/31/uj6cgKO+tH+6f56AksBWAl+AHQF+QAI/i7/IfvX+QsA\" type=\"audio/wav\" />\n",
              "                    Your browser does not support the audio element.\n",
              "                </audio>\n",
              "              "
            ]
          },
          "metadata": {},
          "execution_count": 17
        }
      ]
    },
    {
      "cell_type": "code",
      "source": [
        "# Correct target\n",
        "targ_example[EXAMPLE_IDX]"
      ],
      "metadata": {
        "colab": {
          "base_uri": "https://localhost:8080/"
        },
        "id": "vK3QN3cqUD8g",
        "outputId": "94790e6c-9fc2-4e9d-916e-d92156b0871c"
      },
      "execution_count": 18,
      "outputs": [
        {
          "output_type": "execute_result",
          "data": {
            "text/plain": [
              "tensor(6)"
            ]
          },
          "metadata": {},
          "execution_count": 18
        }
      ]
    },
    {
      "cell_type": "code",
      "source": [
        "# Helper functions for training\n",
        "Stats = namedtuple('Stats', ['train_loss', 'train_metric', 'val_loss', 'val_metric'])\n",
        "\n",
        "def train_and_validate(model, optimizer,\n",
        "                       train_loader,\n",
        "                       validation_loader,\n",
        "                       loss_fn=nn.CrossEntropyLoss(),\n",
        "                       metric_fn=lambda o,t: (o.argmax(axis=1)==t).sum().item(),\n",
        "                      ):\n",
        "    train_loss, train_metric, val_loss, val_metric = 0, 0, 0, 0\n",
        "\n",
        "    # Training\n",
        "    model.train(True)\n",
        "    for feat_train, targ_train in train_loader:\n",
        "        optimizer.zero_grad()\n",
        "        out_train = model(feat_train.to(DEVICE))\n",
        "        targ_train = targ_train.to(DEVICE)\n",
        "        loss = loss_fn(out_train, targ_train)\n",
        "        train_loss += loss.item()\n",
        "        loss.backward()\n",
        "        optimizer.step()\n",
        "        train_metric += metric_fn(out_train.detach(), targ_train)\n",
        "\n",
        "    # Validation\n",
        "    model.eval()\n",
        "    with torch.no_grad():\n",
        "        for feat_val, targ_val in validation_loader:\n",
        "            out_val = model(feat_val.to(DEVICE)).detach()\n",
        "            targ_val = targ_val.to(DEVICE)\n",
        "            val_loss += loss_fn(out_val, targ_val).item()\n",
        "            val_metric += metric_fn(out_val, targ_val)\n",
        "\n",
        "    return Stats(\n",
        "        train_loss / (train_cnt := len(train_loader.dataset)),\n",
        "        train_metric / train_cnt,\n",
        "        val_loss / (val_cnt := len(validation_loader.dataset)),\n",
        "        val_metric / val_cnt,\n",
        "    )\n",
        "\n",
        "def show_stats(stats, title):\n",
        "    arr = np.array(stats)\n",
        "\n",
        "    fig, axes = plt.subplots(1, 2, figsize=(8, 4), layout='constrained')\n",
        "    axes[0].plot(arr[:, [0, 2]])\n",
        "    axes[0].set_title('Loss (best: train={:.3}, val={:.3})'\n",
        "                      .format(*arr[:, [0, 2]].min(axis=0)))\n",
        "\n",
        "    axes[1].plot(arr[:, [1, 3]])\n",
        "    axes[1].set_title('Metric (best: train={:.3}, val={:.3})'\n",
        "                      .format(*arr[:, [1, 3]].max(axis=0)))\n",
        "    fig.legend(['train', 'validation'],  bbox_to_anchor=(0.23, 0.21))#loc='lower right',\n",
        "    fig.suptitle(title)\n",
        "    plt.show()"
      ],
      "metadata": {
        "id": "n6QTdstEt3tw"
      },
      "execution_count": 19,
      "outputs": []
    },
    {
      "cell_type": "code",
      "source": [
        "# Models, config, and choice of a model.\n",
        "FEATURE_CNT = 13\n",
        "CLASS_CNT = 10\n",
        "\n",
        "class RNN(nn.Module):\n",
        "    def __init__(self, feature_cnt, class_cnt, rec_layers, drop_prob, **unused):\n",
        "        super(RNN, self).__init__()\n",
        "        self.hidden_size=64\n",
        "        self.num_layers=rec_layers\n",
        "\n",
        "        self.rnn = nn.RNN(input_size=feature_cnt,\n",
        "                          hidden_size=self.hidden_size,\n",
        "                          num_layers=self.num_layers,\n",
        "                          batch_first=True,\n",
        "                          dropout=drop_prob,\n",
        "                          )\n",
        "        self.gelu1 = nn.GELU()\n",
        "        self.drop1 = nn.Dropout(p=drop_prob)\n",
        "        self.fc1 = nn.Linear(self.hidden_size, 32)\n",
        "        self.gelu = nn.GELU()\n",
        "        self.drop = nn.Dropout(p=drop_prob)\n",
        "        self.fc = nn.Linear(32, class_cnt)\n",
        "        # self.softmax = nn.LogSoftmax(dim=1)\n",
        "    \n",
        "    def forward(self, x):\n",
        "        #               (1*num_layers,    batch_size, hidden_size)\n",
        "        h0 = torch.zeros(self.num_layers, x.size(0), self.hidden_size).to(DEVICE) \n",
        "        # ((batch_size, seq_length, hidden_size), ...)\n",
        "        output, hn = self.rnn(x, h0)\n",
        "        #      batch, last_seq, hidden_size\n",
        "        return self.fc(\n",
        "            self.drop(\n",
        "                self.gelu(\n",
        "                    self.fc1(\n",
        "                        self.drop1(\n",
        "                            self.gelu1(\n",
        "                                output[:, -1, :]\n",
        "                            )\n",
        "                        )\n",
        "                    )\n",
        "                )\n",
        "            )\n",
        "        )\n",
        "\n",
        "class LSTM(nn.Module):\n",
        "    def __init__(self, rec_layers, drop_prob, **unused):\n",
        "        super(LSTM, self).__init__()\n",
        "        self.hidden_size=32\n",
        "        self.num_layers=rec_layers\n",
        "\n",
        "        self.lstm = nn.LSTM(input_size=FEATURE_CNT,\n",
        "                            hidden_size=self.hidden_size,\n",
        "                            num_layers=self.num_layers,\n",
        "                            batch_first=True,\n",
        "                            dropout=drop_prob,\n",
        "                            )\n",
        "        self.drop = nn.Dropout(p=drop_prob)\n",
        "        self.fc = nn.Linear(self.hidden_size, CLASS_CNT)\n",
        "    \n",
        "    def forward(self, x):\n",
        "        # lstm input shapes: ((batch_size, seq_length, hidden_size), (h, c))\n",
        "        #                     If (h, c) is not given, zero vectors are used.\n",
        "        output, (h, c) = self.lstm(x)\n",
        "        # (batch, last_seq, hidden_size), (h, c) - lstm output shapes.\n",
        "        return self.fc(\n",
        "            self.drop(\n",
        "                output[:, -1, :]\n",
        "            )\n",
        "        )\n",
        "\n",
        "\n",
        "# Instantiate the model\n",
        "config = dict(\n",
        "    feature_cnt=FEATURE_CNT,\n",
        "    class_cnt=CLASS_CNT,\n",
        "    rec_layers=2,\n",
        "    lin_layers=2, # DOES NOT WORK - lin layers are so far hard coded.\n",
        "    drop_prob=0.2,\n",
        "    lr = 0.001,\n",
        "    weight_decay=0.01,\n",
        ")\n",
        "\n",
        "# IMPORTANT!\n",
        "# Choose one of the model, by commenting out exaclty one out of two following lines.\n",
        "model = RNN(**config).to(DEVICE)\n",
        "# model = LSTM(**config).to(DEVICE)\n",
        "\n",
        "optim_class = torch.optim.Adam\n",
        "# optim_class = torch.optim.SGD\n",
        "# optim_class = torch.optim.AdamW\n",
        "\n",
        "optimizer = optim_class(model.parameters(),\n",
        "                        lr=config['lr'],\n",
        "                        weight_decay=config['weight_decay'],\n",
        "                        )\n",
        "\n",
        "param_cnt = sum(p.numel() for p in model.parameters())\n",
        "\n",
        "MODEL_NAME = '--'.join([\n",
        "    str(model).split('(')[0], # name\n",
        "    f\"rec-{config['rec_layers']}\",\n",
        "    f\"dp-{config['drop_prob']}\",\n",
        "    f\"lin-{config['lin_layers']}\",\n",
        "    f\"par-{param_cnt}\",\n",
        "    f\"opt-{(str(optimizer).split()[0])}\",\n",
        "    f\"lr-{config['lr']}\",\n",
        "    f\"wd-{config['weight_decay']}\",\n",
        "]).lower()\n",
        "\n",
        "print(MODEL_NAME)\n",
        "display(model)\n",
        "display(optimizer)\n",
        "\n",
        "best_train_metric, best_val_metric = -1, -1\n",
        "stats = []\n",
        "epoch = 0\n",
        "epoch_cnt = 1000"
      ],
      "metadata": {
        "colab": {
          "base_uri": "https://localhost:8080/",
          "height": 431
        },
        "id": "_50L7G0Nq1Zy",
        "outputId": "384df2ba-066a-4841-8d2e-3065a0c264dc"
      },
      "execution_count": 20,
      "outputs": [
        {
          "output_type": "stream",
          "name": "stdout",
          "text": [
            "rnn--rec-2--dp-0.2--lin-2--par-15786--opt-adam--lr-0.001--wd-0.01\n"
          ]
        },
        {
          "output_type": "display_data",
          "data": {
            "text/plain": [
              "RNN(\n",
              "  (rnn): RNN(13, 64, num_layers=2, batch_first=True, dropout=0.2)\n",
              "  (gelu1): GELU(approximate='none')\n",
              "  (drop1): Dropout(p=0.2, inplace=False)\n",
              "  (fc1): Linear(in_features=64, out_features=32, bias=True)\n",
              "  (gelu): GELU(approximate='none')\n",
              "  (drop): Dropout(p=0.2, inplace=False)\n",
              "  (fc): Linear(in_features=32, out_features=10, bias=True)\n",
              ")"
            ]
          },
          "metadata": {}
        },
        {
          "output_type": "display_data",
          "data": {
            "text/plain": [
              "Adam (\n",
              "Parameter Group 0\n",
              "    amsgrad: False\n",
              "    betas: (0.9, 0.999)\n",
              "    capturable: False\n",
              "    differentiable: False\n",
              "    eps: 1e-08\n",
              "    foreach: None\n",
              "    fused: None\n",
              "    lr: 0.001\n",
              "    maximize: False\n",
              "    weight_decay: 0.01\n",
              ")"
            ]
          },
          "metadata": {}
        }
      ]
    },
    {
      "cell_type": "code",
      "source": [
        "# The training loop.\n",
        "for epoch in range(epoch+1, epoch+epoch_cnt+1):\n",
        "    stats.append(train_and_validate(model, optimizer,\n",
        "                                    train_loader=TRAIN_LOADER,\n",
        "                                    validation_loader=VAL_LOADER\n",
        "                                    ))\n",
        "    print(stats[-1])\n",
        "\n",
        "    if (train_metric := stats[-1].train_metric) >= best_train_metric:\n",
        "        best_train_metric = train_metric \n",
        "\n",
        "    if (val_metric := stats[-1].val_metric) >= best_val_metric:\n",
        "        torch.save(model.state_dict(), MODEL_NAME)\n",
        "        best_val_metric = val_metric\n",
        "\n",
        "    if epoch % 10 == 0:\n",
        "        ipd.clear_output(wait=True)\n",
        "        show_stats(stats, f'Epoch {epoch} | {MODEL_NAME}')\n",
        "else:\n",
        "    print(stats[-1])"
      ],
      "metadata": {
        "colab": {
          "base_uri": "https://localhost:8080/",
          "height": 466
        },
        "id": "I4-MeQCX3rDH",
        "outputId": "60e4a1ca-1d9a-4719-989a-38ce655d7df0"
      },
      "execution_count": 21,
      "outputs": [
        {
          "output_type": "display_data",
          "data": {
            "text/plain": [
              "<Figure size 800x400 with 2 Axes>"
            ],
            "image/png": "[encoded data removed]"
          },
          "metadata": {}
        },
        {
          "output_type": "stream",
          "name": "stdout",
          "text": [
            "Stats(train_loss=0.0031136590217550595, train_metric=0.9786666666666667, val_loss=0.06478640520572662, val_metric=0.493)\n"
          ]
        }
      ]
    },
    {
      "cell_type": "code",
      "source": [
        "display(MODEL_NAME)"
      ],
      "metadata": {
        "colab": {
          "base_uri": "https://localhost:8080/",
          "height": 35
        },
        "id": "PxO1UnWhP9S2",
        "outputId": "1b7c2a1f-323d-48af-a278-cc2bd1ad47b3"
      },
      "execution_count": 26,
      "outputs": [
        {
          "output_type": "display_data",
          "data": {
            "text/plain": [
              "'rnn--rec-2--dp-0.2--lin-2--par-15786--opt-adam--lr-0.001--wd-0.01'"
            ],
            "application/vnd.google.colaboratory.intrinsic+json": {
              "type": "string"
            }
          },
          "metadata": {}
        }
      ]
    },
    {
      "cell_type": "code",
      "source": [
        "# Load the best model found based on validation metric.\n",
        "model = RNN(**config).to(DEVICE)\n",
        "model.load_state_dict(torch.load(MODEL_NAME))\n",
        "model.eval()"
      ],
      "metadata": {
        "colab": {
          "base_uri": "https://localhost:8080/"
        },
        "id": "hnwUTi2lrQW0",
        "outputId": "603c459a-f082-4abe-b6b7-cc26384c2efc"
      },
      "execution_count": 23,
      "outputs": [
        {
          "output_type": "execute_result",
          "data": {
            "text/plain": [
              "RNN(\n",
              "  (rnn): RNN(13, 64, num_layers=2, batch_first=True, dropout=0.2)\n",
              "  (gelu1): GELU(approximate='none')\n",
              "  (drop1): Dropout(p=0.2, inplace=False)\n",
              "  (fc1): Linear(in_features=64, out_features=32, bias=True)\n",
              "  (gelu): GELU(approximate='none')\n",
              "  (drop): Dropout(p=0.2, inplace=False)\n",
              "  (fc): Linear(in_features=32, out_features=10, bias=True)\n",
              ")"
            ]
          },
          "metadata": {},
          "execution_count": 23
        }
      ]
    },
    {
      "cell_type": "code",
      "source": [
        "# Check the Test loss and accuracy\n",
        "# (this should be run only and exactly once).\n",
        "loss_fn=nn.CrossEntropyLoss()\n",
        "metric_fn=lambda o,t: (o.argmax(axis=1)==t).sum().item()\n",
        "\n",
        "test_loss, test_metric = 0, 0\n",
        "model.eval()\n",
        "with torch.no_grad():\n",
        "    for feat_test, targ_test in TEST_LOADER:\n",
        "        out_test = model(feat_test.to(DEVICE)).detach()\n",
        "        targ_test = targ_test.to(DEVICE)\n",
        "        test_loss += loss_fn(out_test, targ_test).item()\n",
        "        test_metric += metric_fn(out_test, targ_test)\n",
        "\n",
        "print(\"Test Loss:\", test_loss / (test_cnt := len(TEST_LOADER.dataset)),\n",
        "      \"test accuracy:\", test_metric / test_cnt,\n",
        "      )"
      ],
      "metadata": {
        "colab": {
          "base_uri": "https://localhost:8080/"
        },
        "id": "CmgXQ8aVOBL-",
        "outputId": "b8b81e2c-f03b-4124-dfe2-bf4c5b0e78d1"
      },
      "execution_count": 24,
      "outputs": [
        {
          "output_type": "stream",
          "name": "stdout",
          "text": [
            "Test Loss: 0.021148604184389113 test accuracy: 0.808\n"
          ]
        }
      ]
    },
    {
      "cell_type": "code",
      "source": [
        "! pip freeze"
      ],
      "metadata": {
        "colab": {
          "base_uri": "https://localhost:8080/"
        },
        "id": "gZOrEkFyvVDl",
        "outputId": "49e67d9b-0f75-4e76-8aaf-1de499855af7"
      },
      "execution_count": 25,
      "outputs": [
        {
          "output_type": "stream",
          "name": "stdout",
          "text": [
            "absl-py==1.4.0\n",
            "alabaster==0.7.13\n",
            "albumentations==1.2.1\n",
            "altair==4.2.2\n",
            "anyio==3.6.2\n",
            "appdirs==1.4.4\n",
            "argon2-cffi==21.3.0\n",
            "argon2-cffi-bindings==21.2.0\n",
            "array-record==0.2.0\n",
            "arviz==0.15.1\n",
            "astropy==5.2.2\n",
            "astunparse==1.6.3\n",
            "attrs==23.1.0\n",
            "audioread==3.0.0\n",
            "autograd==1.5\n",
            "Babel==2.12.1\n",
            "backcall==0.2.0\n",
            "beautifulsoup4==4.11.2\n",
            "bleach==6.0.0\n",
            "blis==0.7.9\n",
            "blosc2==2.0.0\n",
            "bokeh==2.4.3\n",
            "branca==0.6.0\n",
            "build==0.10.0\n",
            "CacheControl==0.12.11\n",
            "cached-property==1.5.2\n",
            "cachetools==5.3.0\n",
            "catalogue==2.0.8\n",
            "certifi==2022.12.7\n",
            "cffi==1.15.1\n",
            "chardet==4.0.0\n",
            "charset-normalizer==2.0.12\n",
            "chex==0.1.7\n",
            "click==8.1.3\n",
            "cloudpickle==2.2.1\n",
            "cmake==3.25.2\n",
            "cmdstanpy==1.1.0\n",
            "colorcet==3.0.1\n",
            "colorlover==0.3.0\n",
            "community==1.0.0b1\n",
            "confection==0.0.4\n",
            "cons==0.4.5\n",
            "contextlib2==0.6.0.post1\n",
            "contourpy==1.0.7\n",
            "convertdate==2.4.0\n",
            "cryptography==40.0.2\n",
            "cufflinks==0.17.3\n",
            "cupy-cuda11x==11.0.0\n",
            "cvxopt==1.3.0\n",
            "cvxpy==1.3.1\n",
            "cycler==0.11.0\n",
            "cymem==2.0.7\n",
            "Cython==0.29.34\n",
            "dask==2022.12.1\n",
            "datascience==0.17.6\n",
            "db-dtypes==1.1.1\n",
            "dbus-python==1.2.16\n",
            "debugpy==1.6.6\n",
            "decorator==4.4.2\n",
            "defusedxml==0.7.1\n",
            "Deprecated==1.2.14\n",
            "distributed==2022.12.1\n",
            "dlib==19.24.1\n",
            "dm-tree==0.1.8\n",
            "docutils==0.16\n",
            "dopamine-rl==4.0.6\n",
            "duckdb==0.7.1\n",
            "earthengine-api==0.1.350\n",
            "easydict==1.10\n",
            "ecos==2.0.12\n",
            "editdistance==0.6.2\n",
            "en-core-web-sm @ https://github.com/explosion/spacy-models/releases/download/en_core_web_sm-3.5.0/en_core_web_sm-3.5.0-py3-none-any.whl#sha256=0964370218b7e1672a30ac50d72cdc6b16f7c867496f1d60925691188f4d2510\n",
            "entrypoints==0.4\n",
            "ephem==4.1.4\n",
            "et-xmlfile==1.1.0\n",
            "etils==1.2.0\n",
            "etuples==0.3.8\n",
            "exceptiongroup==1.1.1\n",
            "fastai==2.7.12\n",
            "fastcore==1.5.29\n",
            "fastdownload==0.0.7\n",
            "fastjsonschema==2.16.3\n",
            "fastprogress==1.0.3\n",
            "fastrlock==0.8.1\n",
            "filelock==3.12.0\n",
            "firebase-admin==5.3.0\n",
            "Flask==2.2.4\n",
            "flatbuffers==23.3.3\n",
            "flax==0.6.9\n",
            "folium==0.14.0\n",
            "fonttools==4.39.3\n",
            "frozendict==2.3.7\n",
            "fsspec==2023.4.0\n",
            "future==0.18.3\n",
            "gast==0.4.0\n",
            "GDAL==3.3.2\n",
            "gdown==4.6.6\n",
            "gensim==4.3.1\n",
            "geographiclib==2.0\n",
            "geopy==2.3.0\n",
            "gin-config==0.5.0\n",
            "glob2==0.7\n",
            "google==2.0.3\n",
            "google-api-core==2.11.0\n",
            "google-api-python-client==2.84.0\n",
            "google-auth==2.17.3\n",
            "google-auth-httplib2==0.1.0\n",
            "google-auth-oauthlib==1.0.0\n",
            "google-cloud-bigquery==3.9.0\n",
            "google-cloud-bigquery-storage==2.19.1\n",
            "google-cloud-core==2.3.2\n",
            "google-cloud-datastore==2.15.1\n",
            "google-cloud-firestore==2.11.0\n",
            "google-cloud-language==2.9.1\n",
            "google-cloud-storage==2.8.0\n",
            "google-cloud-translate==3.11.1\n",
            "google-colab @ file:///colabtools/dist/google-colab-1.0.0.tar.gz#sha256=eb9e83baeb973bfc0ff0d9145dd297526324374c73badaf746b6d45aaccf1fda\n",
            "google-crc32c==1.5.0\n",
            "google-pasta==0.2.0\n",
            "google-resumable-media==2.5.0\n",
            "googleapis-common-protos==1.59.0\n",
            "googledrivedownloader==0.4\n",
            "graphviz==0.20.1\n",
            "greenlet==2.0.2\n",
            "grpcio==1.54.0\n",
            "grpcio-status==1.48.2\n",
            "gspread==3.4.2\n",
            "gspread-dataframe==3.0.8\n",
            "gym==0.25.2\n",
            "gym-notices==0.0.8\n",
            "h5netcdf==1.1.0\n",
            "h5py==3.8.0\n",
            "holidays==0.25\n",
            "holoviews==1.15.4\n",
            "html5lib==1.1\n",
            "httpimport==1.3.0\n",
            "httplib2==0.21.0\n",
            "humanize==4.6.0\n",
            "hyperopt==0.2.7\n",
            "idna==3.4\n",
            "imageio==2.25.1\n",
            "imageio-ffmpeg==0.4.8\n",
            "imagesize==1.4.1\n",
            "imbalanced-learn==0.10.1\n",
            "imgaug==0.4.0\n",
            "importlib-resources==5.12.0\n",
            "imutils==0.5.4\n",
            "inflect==6.0.4\n",
            "iniconfig==2.0.0\n",
            "intel-openmp==2023.1.0\n",
            "ipykernel==5.5.6\n",
            "ipython==7.34.0\n",
            "ipython-genutils==0.2.0\n",
            "ipython-sql==0.4.1\n",
            "ipywidgets==7.7.1\n",
            "itsdangerous==2.1.2\n",
            "jax==0.4.10\n",
            "jaxlib @ https://storage.googleapis.com/jax-releases/cuda11/jaxlib-0.4.10+cuda11.cudnn86-cp310-cp310-manylinux2014_x86_64.whl#sha256=fe53205ef12727c80ed5ac2d4506d6732c0c3db69ede4565a7d4df98e609af84\n",
            "jieba==0.42.1\n",
            "Jinja2==3.1.2\n",
            "joblib==1.2.0\n",
            "jsonpickle==3.0.1\n",
            "jsonschema==4.3.3\n",
            "jupyter-client==6.1.12\n",
            "jupyter-console==6.1.0\n",
            "jupyter-server==1.24.0\n",
            "jupyter_core==5.3.0\n",
            "jupyterlab-pygments==0.2.2\n",
            "jupyterlab-widgets==3.0.7\n",
            "kaggle==1.5.13\n",
            "keras==2.12.0\n",
            "kiwisolver==1.4.4\n",
            "korean-lunar-calendar==0.3.1\n",
            "langcodes==3.3.0\n",
            "lazy_loader==0.2\n",
            "libclang==16.0.0\n",
            "librosa==0.10.0.post2\n",
            "lightgbm==3.3.5\n",
            "lit==16.0.5\n",
            "llvmlite==0.39.1\n",
            "locket==1.0.0\n",
            "logical-unification==0.4.5\n",
            "LunarCalendar==0.0.9\n",
            "lxml==4.9.2\n",
            "Markdown==3.4.3\n",
            "markdown-it-py==2.2.0\n",
            "MarkupSafe==2.1.2\n",
            "matplotlib==3.7.1\n",
            "matplotlib-inline==0.1.6\n",
            "matplotlib-venn==0.11.9\n",
            "mdurl==0.1.2\n",
            "miniKanren==1.0.3\n",
            "missingno==0.5.2\n",
            "mistune==0.8.4\n",
            "mizani==0.8.1\n",
            "mkl==2019.0\n",
            "ml-dtypes==0.1.0\n",
            "mlxtend==0.14.0\n",
            "more-itertools==9.1.0\n",
            "moviepy==1.0.3\n",
            "mpmath==1.3.0\n",
            "msgpack==1.0.5\n",
            "multipledispatch==0.6.0\n",
            "multitasking==0.0.11\n",
            "murmurhash==1.0.9\n",
            "music21==8.1.0\n",
            "natsort==8.3.1\n",
            "nbclient==0.7.4\n",
            "nbconvert==6.5.4\n",
            "nbformat==5.8.0\n",
            "nest-asyncio==1.5.6\n",
            "networkx==3.1\n",
            "nibabel==3.0.2\n",
            "nltk==3.8.1\n",
            "notebook==6.4.8\n",
            "numba==0.56.4\n",
            "numexpr==2.8.4\n",
            "numpy==1.22.4\n",
            "oauth2client==4.1.3\n",
            "oauthlib==3.2.2\n",
            "opencv-contrib-python==4.7.0.72\n",
            "opencv-python==4.7.0.72\n",
            "opencv-python-headless==4.7.0.72\n",
            "openpyxl==3.0.10\n",
            "opt-einsum==3.3.0\n",
            "optax==0.1.5\n",
            "orbax-checkpoint==0.2.1\n",
            "osqp==0.6.2.post8\n",
            "packaging==23.1\n",
            "palettable==3.3.3\n",
            "pandas==1.5.3\n",
            "pandas-datareader==0.10.0\n",
            "pandas-gbq==0.17.9\n",
            "pandocfilters==1.5.0\n",
            "panel==0.14.4\n",
            "param==1.13.0\n",
            "parso==0.8.3\n",
            "partd==1.4.0\n",
            "pathlib==1.0.1\n",
            "pathy==0.10.1\n",
            "patsy==0.5.3\n",
            "pexpect==4.8.0\n",
            "pickleshare==0.7.5\n",
            "Pillow==8.4.0\n",
            "pip-tools==6.13.0\n",
            "platformdirs==3.3.0\n",
            "plotly==5.13.1\n",
            "plotnine==0.10.1\n",
            "pluggy==1.0.0\n",
            "polars==0.17.3\n",
            "pooch==1.6.0\n",
            "portpicker==1.3.9\n",
            "prefetch-generator==1.0.3\n",
            "preshed==3.0.8\n",
            "prettytable==0.7.2\n",
            "proglog==0.1.10\n",
            "progressbar2==4.2.0\n",
            "prometheus-client==0.16.0\n",
            "promise==2.3\n",
            "prompt-toolkit==3.0.38\n",
            "prophet==1.1.3\n",
            "proto-plus==1.22.2\n",
            "protobuf==3.20.3\n",
            "psutil==5.9.5\n",
            "psycopg2==2.9.6\n",
            "ptyprocess==0.7.0\n",
            "py-cpuinfo==9.0.0\n",
            "py4j==0.10.9.7\n",
            "pyarrow==9.0.0\n",
            "pyasn1==0.5.0\n",
            "pyasn1-modules==0.3.0\n",
            "pycocotools==2.0.6\n",
            "pycparser==2.21\n",
            "pyct==0.5.0\n",
            "pydantic==1.10.7\n",
            "pydata-google-auth==1.7.0\n",
            "pydot==1.4.2\n",
            "pydot-ng==2.0.0\n",
            "pydotplus==2.0.2\n",
            "PyDrive==1.3.1\n",
            "pyerfa==2.0.0.3\n",
            "pygame==2.3.0\n",
            "Pygments==2.14.0\n",
            "PyGObject==3.36.0\n",
            "pymc==5.1.2\n",
            "PyMeeus==0.5.12\n",
            "pymystem3==0.2.0\n",
            "PyOpenGL==3.1.6\n",
            "pyparsing==3.0.9\n",
            "pyproject_hooks==1.0.0\n",
            "pyrsistent==0.19.3\n",
            "PySocks==1.7.1\n",
            "pytensor==2.10.1\n",
            "pytest==7.2.2\n",
            "python-apt==0.0.0\n",
            "python-dateutil==2.8.2\n",
            "python-louvain==0.16\n",
            "python-slugify==8.0.1\n",
            "python-utils==3.5.2\n",
            "pytz==2022.7.1\n",
            "pytz-deprecation-shim==0.1.0.post0\n",
            "pyviz-comms==2.2.1\n",
            "PyWavelets==1.4.1\n",
            "PyYAML==6.0\n",
            "pyzmq==23.2.1\n",
            "qdldl==0.1.7\n",
            "qudida==0.0.4\n",
            "regex==2022.10.31\n",
            "requests==2.27.1\n",
            "requests-oauthlib==1.3.1\n",
            "requests-unixsocket==0.2.0\n",
            "requirements-parser==0.5.0\n",
            "rich==13.3.4\n",
            "rpy2==3.5.5\n",
            "rsa==4.9\n",
            "scikit-base==0.4.5\n",
            "scikit-image==0.19.3\n",
            "scikit-learn==1.2.2\n",
            "scipy==1.10.1\n",
            "scs==3.2.3\n",
            "seaborn==0.12.2\n",
            "Send2Trash==1.8.0\n",
            "shapely==2.0.1\n",
            "six==1.16.0\n",
            "sklearn-pandas==2.2.0\n",
            "sktime==0.19.1\n",
            "smart-open==6.3.0\n",
            "sniffio==1.3.0\n",
            "snowballstemmer==2.2.0\n",
            "sortedcontainers==2.4.0\n",
            "soundfile==0.12.1\n",
            "soupsieve==2.4.1\n",
            "soxr==0.3.5\n",
            "spacy==3.5.2\n",
            "spacy-legacy==3.0.12\n",
            "spacy-loggers==1.0.4\n",
            "Sphinx==3.5.4\n",
            "sphinxcontrib-applehelp==1.0.4\n",
            "sphinxcontrib-devhelp==1.0.2\n",
            "sphinxcontrib-htmlhelp==2.0.1\n",
            "sphinxcontrib-jsmath==1.0.1\n",
            "sphinxcontrib-qthelp==1.0.3\n",
            "sphinxcontrib-serializinghtml==1.1.5\n",
            "SQLAlchemy==2.0.10\n",
            "sqlparse==0.4.4\n",
            "srsly==2.4.6\n",
            "statsmodels==0.13.5\n",
            "sympy==1.11.1\n",
            "tables==3.8.0\n",
            "tabulate==0.8.10\n",
            "tblib==1.7.0\n",
            "tenacity==8.2.2\n",
            "tensorboard==2.12.2\n",
            "tensorboard-data-server==0.7.0\n",
            "tensorboard-plugin-wit==1.8.1\n",
            "tensorflow==2.12.0\n",
            "tensorflow-datasets==4.9.2\n",
            "tensorflow-estimator==2.12.0\n",
            "tensorflow-gcs-config==2.12.0\n",
            "tensorflow-hub==0.13.0\n",
            "tensorflow-io-gcs-filesystem==0.32.0\n",
            "tensorflow-metadata==1.13.1\n",
            "tensorflow-probability==0.20.1\n",
            "tensorstore==0.1.36\n",
            "termcolor==2.3.0\n",
            "terminado==0.17.1\n",
            "text-unidecode==1.3\n",
            "textblob==0.17.1\n",
            "tf-slim==1.1.0\n",
            "thinc==8.1.9\n",
            "threadpoolctl==3.1.0\n",
            "tifffile==2023.4.12\n",
            "tinycss2==1.2.1\n",
            "toml==0.10.2\n",
            "tomli==2.0.1\n",
            "toolz==0.12.0\n",
            "torch @ https://download.pytorch.org/whl/cu118/torch-2.0.1%2Bcu118-cp310-cp310-linux_x86_64.whl#sha256=a7a49d459bf4862f64f7bc1a68beccf8881c2fa9f3e0569608e16ba6f85ebf7b\n",
            "torchaudio @ https://download.pytorch.org/whl/cu118/torchaudio-2.0.2%2Bcu118-cp310-cp310-linux_x86_64.whl#sha256=26692645ea061a005c57ec581a2d0425210ac6ba9f923edf11cc9b0ef3a111e9\n",
            "torchdata==0.6.1\n",
            "torchsummary==1.5.1\n",
            "torchtext==0.15.2\n",
            "torchvision @ https://download.pytorch.org/whl/cu118/torchvision-0.15.2%2Bcu118-cp310-cp310-linux_x86_64.whl#sha256=19ca4ab5d6179bbe53cff79df1a855ee6533c2861ddc7389f68349d8b9f8302a\n",
            "tornado==6.3.1\n",
            "tqdm==4.65.0\n",
            "traitlets==5.7.1\n",
            "triton==2.0.0\n",
            "tweepy==4.13.0\n",
            "typer==0.7.0\n",
            "types-setuptools==67.8.0.0\n",
            "typing_extensions==4.5.0\n",
            "tzdata==2023.3\n",
            "tzlocal==4.3\n",
            "uritemplate==4.1.1\n",
            "urllib3==1.26.15\n",
            "vega-datasets==0.9.0\n",
            "wasabi==1.1.1\n",
            "wcwidth==0.2.6\n",
            "webcolors==1.13\n",
            "webencodings==0.5.1\n",
            "websocket-client==1.5.1\n",
            "Werkzeug==2.3.0\n",
            "widgetsnbextension==3.6.4\n",
            "wordcloud==1.8.2.2\n",
            "wrapt==1.14.1\n",
            "xarray==2022.12.0\n",
            "xarray-einstats==0.5.1\n",
            "xgboost==1.7.5\n",
            "xlrd==2.0.1\n",
            "yellowbrick==1.5\n",
            "yfinance==0.2.18\n",
            "zict==3.0.0\n",
            "zipp==3.15.0\n"
          ]
        }
      ]
    }
  ],
  "metadata": {
    "kernelspec": {
      "display_name": "Python 3",
      "name": "python3"
    },
    "language_info": {
      "codemirror_mode": {
        "name": "ipython",
        "version": 3
      },
      "file_extension": ".py",
      "mimetype": "text/x-python",
      "name": "python",
      "nbconvert_exporter": "python",
      "pygments_lexer": "ipython3",
      "version": "3.10.9"
    },
    "orig_nbformat": 4,
    "colab": {
      "provenance": [],
      "gpuType": "T4"
    },
    "accelerator": "GPU",
    "widgets": {
      "application/vnd.jupyter.widget-state+json": {
        "eb526a6c824b427dafa1f134d0476f38": {
          "model_module": "@jupyter-widgets/controls",
          "model_name": "HBoxModel",
          "model_module_version": "1.5.0",
          "state": {
            "_dom_classes": [],
            "_model_module": "@jupyter-widgets/controls",
            "_model_module_version": "1.5.0",
            "_model_name": "HBoxModel",
            "_view_count": null,
            "_view_module": "@jupyter-widgets/controls",
            "_view_module_version": "1.5.0",
            "_view_name": "HBoxView",
            "box_style": "",
            "children": [
              "IPY_MODEL_ab400a86715a4072badbda475287edb2",
              "IPY_MODEL_b21d741e729d409e81c956a12bdb1804",
              "IPY_MODEL_213574d8500b42fb94d78f04dadc359b"
            ],
            "layout": "IPY_MODEL_0eef11b2337b4dfd9fdfa399a276eb2d"
          }
        },
        "ab400a86715a4072badbda475287edb2": {
          "model_module": "@jupyter-widgets/controls",
          "model_name": "HTMLModel",
          "model_module_version": "1.5.0",
          "state": {
            "_dom_classes": [],
            "_model_module": "@jupyter-widgets/controls",
            "_model_module_version": "1.5.0",
            "_model_name": "HTMLModel",
            "_view_count": null,
            "_view_module": "@jupyter-widgets/controls",
            "_view_module_version": "1.5.0",
            "_view_name": "HTMLView",
            "description": "",
            "description_tooltip": null,
            "layout": "IPY_MODEL_2f95137a4c6443568f64188fb313581d",
            "placeholder": "​",
            "style": "IPY_MODEL_7a0786cd1c604c618b3c4865cfc08518",
            "value": "100%"
          }
        },
        "b21d741e729d409e81c956a12bdb1804": {
          "model_module": "@jupyter-widgets/controls",
          "model_name": "FloatProgressModel",
          "model_module_version": "1.5.0",
          "state": {
            "_dom_classes": [],
            "_model_module": "@jupyter-widgets/controls",
            "_model_module_version": "1.5.0",
            "_model_name": "FloatProgressModel",
            "_view_count": null,
            "_view_module": "@jupyter-widgets/controls",
            "_view_module_version": "1.5.0",
            "_view_name": "ProgressView",
            "bar_style": "success",
            "description": "",
            "description_tooltip": null,
            "layout": "IPY_MODEL_2475c3f7810241c19ce56767cd8030c2",
            "max": 3000,
            "min": 0,
            "orientation": "horizontal",
            "style": "IPY_MODEL_086576761dd248b397988a8e1436d3e9",
            "value": 3000
          }
        },
        "213574d8500b42fb94d78f04dadc359b": {
          "model_module": "@jupyter-widgets/controls",
          "model_name": "HTMLModel",
          "model_module_version": "1.5.0",
          "state": {
            "_dom_classes": [],
            "_model_module": "@jupyter-widgets/controls",
            "_model_module_version": "1.5.0",
            "_model_name": "HTMLModel",
            "_view_count": null,
            "_view_module": "@jupyter-widgets/controls",
            "_view_module_version": "1.5.0",
            "_view_name": "HTMLView",
            "description": "",
            "description_tooltip": null,
            "layout": "IPY_MODEL_10fd1713fb99491e9c4dd086d193cc23",
            "placeholder": "​",
            "style": "IPY_MODEL_8140b0c90cbc48a1a2adf027a24cb3c9",
            "value": " 3000/3000 [00:36&lt;00:00, 171.49it/s]"
          }
        },
        "0eef11b2337b4dfd9fdfa399a276eb2d": {
          "model_module": "@jupyter-widgets/base",
          "model_name": "LayoutModel",
          "model_module_version": "1.2.0",
          "state": {
            "_model_module": "@jupyter-widgets/base",
            "_model_module_version": "1.2.0",
            "_model_name": "LayoutModel",
            "_view_count": null,
            "_view_module": "@jupyter-widgets/base",
            "_view_module_version": "1.2.0",
            "_view_name": "LayoutView",
            "align_content": null,
            "align_items": null,
            "align_self": null,
            "border": null,
            "bottom": null,
            "display": null,
            "flex": null,
            "flex_flow": null,
            "grid_area": null,
            "grid_auto_columns": null,
            "grid_auto_flow": null,
            "grid_auto_rows": null,
            "grid_column": null,
            "grid_gap": null,
            "grid_row": null,
            "grid_template_areas": null,
            "grid_template_columns": null,
            "grid_template_rows": null,
            "height": null,
            "justify_content": null,
            "justify_items": null,
            "left": null,
            "margin": null,
            "max_height": null,
            "max_width": null,
            "min_height": null,
            "min_width": null,
            "object_fit": null,
            "object_position": null,
            "order": null,
            "overflow": null,
            "overflow_x": null,
            "overflow_y": null,
            "padding": null,
            "right": null,
            "top": null,
            "visibility": null,
            "width": null
          }
        },
        "2f95137a4c6443568f64188fb313581d": {
          "model_module": "@jupyter-widgets/base",
          "model_name": "LayoutModel",
          "model_module_version": "1.2.0",
          "state": {
            "_model_module": "@jupyter-widgets/base",
            "_model_module_version": "1.2.0",
            "_model_name": "LayoutModel",
            "_view_count": null,
            "_view_module": "@jupyter-widgets/base",
            "_view_module_version": "1.2.0",
            "_view_name": "LayoutView",
            "align_content": null,
            "align_items": null,
            "align_self": null,
            "border": null,
            "bottom": null,
            "display": null,
            "flex": null,
            "flex_flow": null,
            "grid_area": null,
            "grid_auto_columns": null,
            "grid_auto_flow": null,
            "grid_auto_rows": null,
            "grid_column": null,
            "grid_gap": null,
            "grid_row": null,
            "grid_template_areas": null,
            "grid_template_columns": null,
            "grid_template_rows": null,
            "height": null,
            "justify_content": null,
            "justify_items": null,
            "left": null,
            "margin": null,
            "max_height": null,
            "max_width": null,
            "min_height": null,
            "min_width": null,
            "object_fit": null,
            "object_position": null,
            "order": null,
            "overflow": null,
            "overflow_x": null,
            "overflow_y": null,
            "padding": null,
            "right": null,
            "top": null,
            "visibility": null,
            "width": null
          }
        },
        "7a0786cd1c604c618b3c4865cfc08518": {
          "model_module": "@jupyter-widgets/controls",
          "model_name": "DescriptionStyleModel",
          "model_module_version": "1.5.0",
          "state": {
            "_model_module": "@jupyter-widgets/controls",
            "_model_module_version": "1.5.0",
            "_model_name": "DescriptionStyleModel",
            "_view_count": null,
            "_view_module": "@jupyter-widgets/base",
            "_view_module_version": "1.2.0",
            "_view_name": "StyleView",
            "description_width": ""
          }
        },
        "2475c3f7810241c19ce56767cd8030c2": {
          "model_module": "@jupyter-widgets/base",
          "model_name": "LayoutModel",
          "model_module_version": "1.2.0",
          "state": {
            "_model_module": "@jupyter-widgets/base",
            "_model_module_version": "1.2.0",
            "_model_name": "LayoutModel",
            "_view_count": null,
            "_view_module": "@jupyter-widgets/base",
            "_view_module_version": "1.2.0",
            "_view_name": "LayoutView",
            "align_content": null,
            "align_items": null,
            "align_self": null,
            "border": null,
            "bottom": null,
            "display": null,
            "flex": null,
            "flex_flow": null,
            "grid_area": null,
            "grid_auto_columns": null,
            "grid_auto_flow": null,
            "grid_auto_rows": null,
            "grid_column": null,
            "grid_gap": null,
            "grid_row": null,
            "grid_template_areas": null,
            "grid_template_columns": null,
            "grid_template_rows": null,
            "height": null,
            "justify_content": null,
            "justify_items": null,
            "left": null,
            "margin": null,
            "max_height": null,
            "max_width": null,
            "min_height": null,
            "min_width": null,
            "object_fit": null,
            "object_position": null,
            "order": null,
            "overflow": null,
            "overflow_x": null,
            "overflow_y": null,
            "padding": null,
            "right": null,
            "top": null,
            "visibility": null,
            "width": null
          }
        },
        "086576761dd248b397988a8e1436d3e9": {
          "model_module": "@jupyter-widgets/controls",
          "model_name": "ProgressStyleModel",
          "model_module_version": "1.5.0",
          "state": {
            "_model_module": "@jupyter-widgets/controls",
            "_model_module_version": "1.5.0",
            "_model_name": "ProgressStyleModel",
            "_view_count": null,
            "_view_module": "@jupyter-widgets/base",
            "_view_module_version": "1.2.0",
            "_view_name": "StyleView",
            "bar_color": null,
            "description_width": ""
          }
        },
        "10fd1713fb99491e9c4dd086d193cc23": {
          "model_module": "@jupyter-widgets/base",
          "model_name": "LayoutModel",
          "model_module_version": "1.2.0",
          "state": {
            "_model_module": "@jupyter-widgets/base",
            "_model_module_version": "1.2.0",
            "_model_name": "LayoutModel",
            "_view_count": null,
            "_view_module": "@jupyter-widgets/base",
            "_view_module_version": "1.2.0",
            "_view_name": "LayoutView",
            "align_content": null,
            "align_items": null,
            "align_self": null,
            "border": null,
            "bottom": null,
            "display": null,
            "flex": null,
            "flex_flow": null,
            "grid_area": null,
            "grid_auto_columns": null,
            "grid_auto_flow": null,
            "grid_auto_rows": null,
            "grid_column": null,
            "grid_gap": null,
            "grid_row": null,
            "grid_template_areas": null,
            "grid_template_columns": null,
            "grid_template_rows": null,
            "height": null,
            "justify_content": null,
            "justify_items": null,
            "left": null,
            "margin": null,
            "max_height": null,
            "max_width": null,
            "min_height": null,
            "min_width": null,
            "object_fit": null,
            "object_position": null,
            "order": null,
            "overflow": null,
            "overflow_x": null,
            "overflow_y": null,
            "padding": null,
            "right": null,
            "top": null,
            "visibility": null,
            "width": null
          }
        },
        "8140b0c90cbc48a1a2adf027a24cb3c9": {
          "model_module": "@jupyter-widgets/controls",
          "model_name": "DescriptionStyleModel",
          "model_module_version": "1.5.0",
          "state": {
            "_model_module": "@jupyter-widgets/controls",
            "_model_module_version": "1.5.0",
            "_model_name": "DescriptionStyleModel",
            "_view_count": null,
            "_view_module": "@jupyter-widgets/base",
            "_view_module_version": "1.2.0",
            "_view_name": "StyleView",
            "description_width": ""
          }
        },
        "6053c9fbcbd04acab826410fa7569a95": {
          "model_module": "@jupyter-widgets/controls",
          "model_name": "HBoxModel",
          "model_module_version": "1.5.0",
          "state": {
            "_dom_classes": [],
            "_model_module": "@jupyter-widgets/controls",
            "_model_module_version": "1.5.0",
            "_model_name": "HBoxModel",
            "_view_count": null,
            "_view_module": "@jupyter-widgets/controls",
            "_view_module_version": "1.5.0",
            "_view_name": "HBoxView",
            "box_style": "",
            "children": [
              "IPY_MODEL_dd0f0b6f94f244238a2f7b55797c5ab3",
              "IPY_MODEL_4b52ce52efa7498796481795cca9c8bc",
              "IPY_MODEL_65f1f48837734b44886d6a19b12f5d55"
            ],
            "layout": "IPY_MODEL_86a7ad95f7ea41e38710b97562a6b25a"
          }
        },
        "dd0f0b6f94f244238a2f7b55797c5ab3": {
          "model_module": "@jupyter-widgets/controls",
          "model_name": "HTMLModel",
          "model_module_version": "1.5.0",
          "state": {
            "_dom_classes": [],
            "_model_module": "@jupyter-widgets/controls",
            "_model_module_version": "1.5.0",
            "_model_name": "HTMLModel",
            "_view_count": null,
            "_view_module": "@jupyter-widgets/controls",
            "_view_module_version": "1.5.0",
            "_view_name": "HTMLView",
            "description": "",
            "description_tooltip": null,
            "layout": "IPY_MODEL_289751bc1664479aa618e17bb24b2e6a",
            "placeholder": "​",
            "style": "IPY_MODEL_b8b3aee9a49640789a54e9423463118f",
            "value": "100%"
          }
        },
        "4b52ce52efa7498796481795cca9c8bc": {
          "model_module": "@jupyter-widgets/controls",
          "model_name": "FloatProgressModel",
          "model_module_version": "1.5.0",
          "state": {
            "_dom_classes": [],
            "_model_module": "@jupyter-widgets/controls",
            "_model_module_version": "1.5.0",
            "_model_name": "FloatProgressModel",
            "_view_count": null,
            "_view_module": "@jupyter-widgets/controls",
            "_view_module_version": "1.5.0",
            "_view_name": "ProgressView",
            "bar_style": "success",
            "description": "",
            "description_tooltip": null,
            "layout": "IPY_MODEL_48008d93998248c481105a5f0c720e7f",
            "max": 6599,
            "min": 0,
            "orientation": "horizontal",
            "style": "IPY_MODEL_04784fbc9e2c487abc7c213c6328ac75",
            "value": 6599
          }
        },
        "65f1f48837734b44886d6a19b12f5d55": {
          "model_module": "@jupyter-widgets/controls",
          "model_name": "HTMLModel",
          "model_module_version": "1.5.0",
          "state": {
            "_dom_classes": [],
            "_model_module": "@jupyter-widgets/controls",
            "_model_module_version": "1.5.0",
            "_model_name": "HTMLModel",
            "_view_count": null,
            "_view_module": "@jupyter-widgets/controls",
            "_view_module_version": "1.5.0",
            "_view_name": "HTMLView",
            "description": "",
            "description_tooltip": null,
            "layout": "IPY_MODEL_31ba9a6f97b54a2c894a9c05779fd04d",
            "placeholder": "​",
            "style": "IPY_MODEL_9a7d5ba6252846b99221d8226aa41b62",
            "value": " 6599/6599 [00:07&lt;00:00, 794.21it/s]"
          }
        },
        "86a7ad95f7ea41e38710b97562a6b25a": {
          "model_module": "@jupyter-widgets/base",
          "model_name": "LayoutModel",
          "model_module_version": "1.2.0",
          "state": {
            "_model_module": "@jupyter-widgets/base",
            "_model_module_version": "1.2.0",
            "_model_name": "LayoutModel",
            "_view_count": null,
            "_view_module": "@jupyter-widgets/base",
            "_view_module_version": "1.2.0",
            "_view_name": "LayoutView",
            "align_content": null,
            "align_items": null,
            "align_self": null,
            "border": null,
            "bottom": null,
            "display": null,
            "flex": null,
            "flex_flow": null,
            "grid_area": null,
            "grid_auto_columns": null,
            "grid_auto_flow": null,
            "grid_auto_rows": null,
            "grid_column": null,
            "grid_gap": null,
            "grid_row": null,
            "grid_template_areas": null,
            "grid_template_columns": null,
            "grid_template_rows": null,
            "height": null,
            "justify_content": null,
            "justify_items": null,
            "left": null,
            "margin": null,
            "max_height": null,
            "max_width": null,
            "min_height": null,
            "min_width": null,
            "object_fit": null,
            "object_position": null,
            "order": null,
            "overflow": null,
            "overflow_x": null,
            "overflow_y": null,
            "padding": null,
            "right": null,
            "top": null,
            "visibility": null,
            "width": null
          }
        },
        "289751bc1664479aa618e17bb24b2e6a": {
          "model_module": "@jupyter-widgets/base",
          "model_name": "LayoutModel",
          "model_module_version": "1.2.0",
          "state": {
            "_model_module": "@jupyter-widgets/base",
            "_model_module_version": "1.2.0",
            "_model_name": "LayoutModel",
            "_view_count": null,
            "_view_module": "@jupyter-widgets/base",
            "_view_module_version": "1.2.0",
            "_view_name": "LayoutView",
            "align_content": null,
            "align_items": null,
            "align_self": null,
            "border": null,
            "bottom": null,
            "display": null,
            "flex": null,
            "flex_flow": null,
            "grid_area": null,
            "grid_auto_columns": null,
            "grid_auto_flow": null,
            "grid_auto_rows": null,
            "grid_column": null,
            "grid_gap": null,
            "grid_row": null,
            "grid_template_areas": null,
            "grid_template_columns": null,
            "grid_template_rows": null,
            "height": null,
            "justify_content": null,
            "justify_items": null,
            "left": null,
            "margin": null,
            "max_height": null,
            "max_width": null,
            "min_height": null,
            "min_width": null,
            "object_fit": null,
            "object_position": null,
            "order": null,
            "overflow": null,
            "overflow_x": null,
            "overflow_y": null,
            "padding": null,
            "right": null,
            "top": null,
            "visibility": null,
            "width": null
          }
        },
        "b8b3aee9a49640789a54e9423463118f": {
          "model_module": "@jupyter-widgets/controls",
          "model_name": "DescriptionStyleModel",
          "model_module_version": "1.5.0",
          "state": {
            "_model_module": "@jupyter-widgets/controls",
            "_model_module_version": "1.5.0",
            "_model_name": "DescriptionStyleModel",
            "_view_count": null,
            "_view_module": "@jupyter-widgets/base",
            "_view_module_version": "1.2.0",
            "_view_name": "StyleView",
            "description_width": ""
          }
        },
        "48008d93998248c481105a5f0c720e7f": {
          "model_module": "@jupyter-widgets/base",
          "model_name": "LayoutModel",
          "model_module_version": "1.2.0",
          "state": {
            "_model_module": "@jupyter-widgets/base",
            "_model_module_version": "1.2.0",
            "_model_name": "LayoutModel",
            "_view_count": null,
            "_view_module": "@jupyter-widgets/base",
            "_view_module_version": "1.2.0",
            "_view_name": "LayoutView",
            "align_content": null,
            "align_items": null,
            "align_self": null,
            "border": null,
            "bottom": null,
            "display": null,
            "flex": null,
            "flex_flow": null,
            "grid_area": null,
            "grid_auto_columns": null,
            "grid_auto_flow": null,
            "grid_auto_rows": null,
            "grid_column": null,
            "grid_gap": null,
            "grid_row": null,
            "grid_template_areas": null,
            "grid_template_columns": null,
            "grid_template_rows": null,
            "height": null,
            "justify_content": null,
            "justify_items": null,
            "left": null,
            "margin": null,
            "max_height": null,
            "max_width": null,
            "min_height": null,
            "min_width": null,
            "object_fit": null,
            "object_position": null,
            "order": null,
            "overflow": null,
            "overflow_x": null,
            "overflow_y": null,
            "padding": null,
            "right": null,
            "top": null,
            "visibility": null,
            "width": null
          }
        },
        "04784fbc9e2c487abc7c213c6328ac75": {
          "model_module": "@jupyter-widgets/controls",
          "model_name": "ProgressStyleModel",
          "model_module_version": "1.5.0",
          "state": {
            "_model_module": "@jupyter-widgets/controls",
            "_model_module_version": "1.5.0",
            "_model_name": "ProgressStyleModel",
            "_view_count": null,
            "_view_module": "@jupyter-widgets/base",
            "_view_module_version": "1.2.0",
            "_view_name": "StyleView",
            "bar_color": null,
            "description_width": ""
          }
        },
        "31ba9a6f97b54a2c894a9c05779fd04d": {
          "model_module": "@jupyter-widgets/base",
          "model_name": "LayoutModel",
          "model_module_version": "1.2.0",
          "state": {
            "_model_module": "@jupyter-widgets/base",
            "_model_module_version": "1.2.0",
            "_model_name": "LayoutModel",
            "_view_count": null,
            "_view_module": "@jupyter-widgets/base",
            "_view_module_version": "1.2.0",
            "_view_name": "LayoutView",
            "align_content": null,
            "align_items": null,
            "align_self": null,
            "border": null,
            "bottom": null,
            "display": null,
            "flex": null,
            "flex_flow": null,
            "grid_area": null,
            "grid_auto_columns": null,
            "grid_auto_flow": null,
            "grid_auto_rows": null,
            "grid_column": null,
            "grid_gap": null,
            "grid_row": null,
            "grid_template_areas": null,
            "grid_template_columns": null,
            "grid_template_rows": null,
            "height": null,
            "justify_content": null,
            "justify_items": null,
            "left": null,
            "margin": null,
            "max_height": null,
            "max_width": null,
            "min_height": null,
            "min_width": null,
            "object_fit": null,
            "object_position": null,
            "order": null,
            "overflow": null,
            "overflow_x": null,
            "overflow_y": null,
            "padding": null,
            "right": null,
            "top": null,
            "visibility": null,
            "width": null
          }
        },
        "9a7d5ba6252846b99221d8226aa41b62": {
          "model_module": "@jupyter-widgets/controls",
          "model_name": "DescriptionStyleModel",
          "model_module_version": "1.5.0",
          "state": {
            "_model_module": "@jupyter-widgets/controls",
            "_model_module_version": "1.5.0",
            "_model_name": "DescriptionStyleModel",
            "_view_count": null,
            "_view_module": "@jupyter-widgets/base",
            "_view_module_version": "1.2.0",
            "_view_name": "StyleView",
            "description_width": ""
          }
        },
        "b7ff114b2bc64f709fac3b72bb4c308a": {
          "model_module": "@jupyter-widgets/controls",
          "model_name": "HBoxModel",
          "model_module_version": "1.5.0",
          "state": {
            "_dom_classes": [],
            "_model_module": "@jupyter-widgets/controls",
            "_model_module_version": "1.5.0",
            "_model_name": "HBoxModel",
            "_view_count": null,
            "_view_module": "@jupyter-widgets/controls",
            "_view_module_version": "1.5.0",
            "_view_name": "HBoxView",
            "box_style": "",
            "children": [
              "IPY_MODEL_e4b89bc88baf4586adad019aefb96521",
              "IPY_MODEL_d77fbd8564fc4e8994dc8e72b2345449",
              "IPY_MODEL_9412a35f3946450f9b3812e728ebe3b6"
            ],
            "layout": "IPY_MODEL_f5ba95ef378e421294ad9b4807486416"
          }
        },
        "e4b89bc88baf4586adad019aefb96521": {
          "model_module": "@jupyter-widgets/controls",
          "model_name": "HTMLModel",
          "model_module_version": "1.5.0",
          "state": {
            "_dom_classes": [],
            "_model_module": "@jupyter-widgets/controls",
            "_model_module_version": "1.5.0",
            "_model_name": "HTMLModel",
            "_view_count": null,
            "_view_module": "@jupyter-widgets/controls",
            "_view_module_version": "1.5.0",
            "_view_name": "HTMLView",
            "description": "",
            "description_tooltip": null,
            "layout": "IPY_MODEL_c46f729fc20d46afa329c493ddfb3d29",
            "placeholder": "​",
            "style": "IPY_MODEL_0efa24978ce94062bb5ce7a695b3e990",
            "value": "100%"
          }
        },
        "d77fbd8564fc4e8994dc8e72b2345449": {
          "model_module": "@jupyter-widgets/controls",
          "model_name": "FloatProgressModel",
          "model_module_version": "1.5.0",
          "state": {
            "_dom_classes": [],
            "_model_module": "@jupyter-widgets/controls",
            "_model_module_version": "1.5.0",
            "_model_name": "FloatProgressModel",
            "_view_count": null,
            "_view_module": "@jupyter-widgets/controls",
            "_view_module_version": "1.5.0",
            "_view_name": "ProgressView",
            "bar_style": "success",
            "description": "",
            "description_tooltip": null,
            "layout": "IPY_MODEL_5e7a090707eb4a50add16c8f9d99a4b4",
            "max": 2199,
            "min": 0,
            "orientation": "horizontal",
            "style": "IPY_MODEL_8a74af2420ae4a8d8e3c9949d90f6543",
            "value": 2199
          }
        },
        "9412a35f3946450f9b3812e728ebe3b6": {
          "model_module": "@jupyter-widgets/controls",
          "model_name": "HTMLModel",
          "model_module_version": "1.5.0",
          "state": {
            "_dom_classes": [],
            "_model_module": "@jupyter-widgets/controls",
            "_model_module_version": "1.5.0",
            "_model_name": "HTMLModel",
            "_view_count": null,
            "_view_module": "@jupyter-widgets/controls",
            "_view_module_version": "1.5.0",
            "_view_name": "HTMLView",
            "description": "",
            "description_tooltip": null,
            "layout": "IPY_MODEL_98b7561289b64c23a21a4d5b726e78d8",
            "placeholder": "​",
            "style": "IPY_MODEL_99a9b016a7aa47849edd12cc46820201",
            "value": " 2199/2199 [00:02&lt;00:00, 978.21it/s]"
          }
        },
        "f5ba95ef378e421294ad9b4807486416": {
          "model_module": "@jupyter-widgets/base",
          "model_name": "LayoutModel",
          "model_module_version": "1.2.0",
          "state": {
            "_model_module": "@jupyter-widgets/base",
            "_model_module_version": "1.2.0",
            "_model_name": "LayoutModel",
            "_view_count": null,
            "_view_module": "@jupyter-widgets/base",
            "_view_module_version": "1.2.0",
            "_view_name": "LayoutView",
            "align_content": null,
            "align_items": null,
            "align_self": null,
            "border": null,
            "bottom": null,
            "display": null,
            "flex": null,
            "flex_flow": null,
            "grid_area": null,
            "grid_auto_columns": null,
            "grid_auto_flow": null,
            "grid_auto_rows": null,
            "grid_column": null,
            "grid_gap": null,
            "grid_row": null,
            "grid_template_areas": null,
            "grid_template_columns": null,
            "grid_template_rows": null,
            "height": null,
            "justify_content": null,
            "justify_items": null,
            "left": null,
            "margin": null,
            "max_height": null,
            "max_width": null,
            "min_height": null,
            "min_width": null,
            "object_fit": null,
            "object_position": null,
            "order": null,
            "overflow": null,
            "overflow_x": null,
            "overflow_y": null,
            "padding": null,
            "right": null,
            "top": null,
            "visibility": null,
            "width": null
          }
        },
        "c46f729fc20d46afa329c493ddfb3d29": {
          "model_module": "@jupyter-widgets/base",
          "model_name": "LayoutModel",
          "model_module_version": "1.2.0",
          "state": {
            "_model_module": "@jupyter-widgets/base",
            "_model_module_version": "1.2.0",
            "_model_name": "LayoutModel",
            "_view_count": null,
            "_view_module": "@jupyter-widgets/base",
            "_view_module_version": "1.2.0",
            "_view_name": "LayoutView",
            "align_content": null,
            "align_items": null,
            "align_self": null,
            "border": null,
            "bottom": null,
            "display": null,
            "flex": null,
            "flex_flow": null,
            "grid_area": null,
            "grid_auto_columns": null,
            "grid_auto_flow": null,
            "grid_auto_rows": null,
            "grid_column": null,
            "grid_gap": null,
            "grid_row": null,
            "grid_template_areas": null,
            "grid_template_columns": null,
            "grid_template_rows": null,
            "height": null,
            "justify_content": null,
            "justify_items": null,
            "left": null,
            "margin": null,
            "max_height": null,
            "max_width": null,
            "min_height": null,
            "min_width": null,
            "object_fit": null,
            "object_position": null,
            "order": null,
            "overflow": null,
            "overflow_x": null,
            "overflow_y": null,
            "padding": null,
            "right": null,
            "top": null,
            "visibility": null,
            "width": null
          }
        },
        "0efa24978ce94062bb5ce7a695b3e990": {
          "model_module": "@jupyter-widgets/controls",
          "model_name": "DescriptionStyleModel",
          "model_module_version": "1.5.0",
          "state": {
            "_model_module": "@jupyter-widgets/controls",
            "_model_module_version": "1.5.0",
            "_model_name": "DescriptionStyleModel",
            "_view_count": null,
            "_view_module": "@jupyter-widgets/base",
            "_view_module_version": "1.2.0",
            "_view_name": "StyleView",
            "description_width": ""
          }
        },
        "5e7a090707eb4a50add16c8f9d99a4b4": {
          "model_module": "@jupyter-widgets/base",
          "model_name": "LayoutModel",
          "model_module_version": "1.2.0",
          "state": {
            "_model_module": "@jupyter-widgets/base",
            "_model_module_version": "1.2.0",
            "_model_name": "LayoutModel",
            "_view_count": null,
            "_view_module": "@jupyter-widgets/base",
            "_view_module_version": "1.2.0",
            "_view_name": "LayoutView",
            "align_content": null,
            "align_items": null,
            "align_self": null,
            "border": null,
            "bottom": null,
            "display": null,
            "flex": null,
            "flex_flow": null,
            "grid_area": null,
            "grid_auto_columns": null,
            "grid_auto_flow": null,
            "grid_auto_rows": null,
            "grid_column": null,
            "grid_gap": null,
            "grid_row": null,
            "grid_template_areas": null,
            "grid_template_columns": null,
            "grid_template_rows": null,
            "height": null,
            "justify_content": null,
            "justify_items": null,
            "left": null,
            "margin": null,
            "max_height": null,
            "max_width": null,
            "min_height": null,
            "min_width": null,
            "object_fit": null,
            "object_position": null,
            "order": null,
            "overflow": null,
            "overflow_x": null,
            "overflow_y": null,
            "padding": null,
            "right": null,
            "top": null,
            "visibility": null,
            "width": null
          }
        },
        "8a74af2420ae4a8d8e3c9949d90f6543": {
          "model_module": "@jupyter-widgets/controls",
          "model_name": "ProgressStyleModel",
          "model_module_version": "1.5.0",
          "state": {
            "_model_module": "@jupyter-widgets/controls",
            "_model_module_version": "1.5.0",
            "_model_name": "ProgressStyleModel",
            "_view_count": null,
            "_view_module": "@jupyter-widgets/base",
            "_view_module_version": "1.2.0",
            "_view_name": "StyleView",
            "bar_color": null,
            "description_width": ""
          }
        },
        "98b7561289b64c23a21a4d5b726e78d8": {
          "model_module": "@jupyter-widgets/base",
          "model_name": "LayoutModel",
          "model_module_version": "1.2.0",
          "state": {
            "_model_module": "@jupyter-widgets/base",
            "_model_module_version": "1.2.0",
            "_model_name": "LayoutModel",
            "_view_count": null,
            "_view_module": "@jupyter-widgets/base",
            "_view_module_version": "1.2.0",
            "_view_name": "LayoutView",
            "align_content": null,
            "align_items": null,
            "align_self": null,
            "border": null,
            "bottom": null,
            "display": null,
            "flex": null,
            "flex_flow": null,
            "grid_area": null,
            "grid_auto_columns": null,
            "grid_auto_flow": null,
            "grid_auto_rows": null,
            "grid_column": null,
            "grid_gap": null,
            "grid_row": null,
            "grid_template_areas": null,
            "grid_template_columns": null,
            "grid_template_rows": null,
            "height": null,
            "justify_content": null,
            "justify_items": null,
            "left": null,
            "margin": null,
            "max_height": null,
            "max_width": null,
            "min_height": null,
            "min_width": null,
            "object_fit": null,
            "object_position": null,
            "order": null,
            "overflow": null,
            "overflow_x": null,
            "overflow_y": null,
            "padding": null,
            "right": null,
            "top": null,
            "visibility": null,
            "width": null
          }
        },
        "99a9b016a7aa47849edd12cc46820201": {
          "model_module": "@jupyter-widgets/controls",
          "model_name": "DescriptionStyleModel",
          "model_module_version": "1.5.0",
          "state": {
            "_model_module": "@jupyter-widgets/controls",
            "_model_module_version": "1.5.0",
            "_model_name": "DescriptionStyleModel",
            "_view_count": null,
            "_view_module": "@jupyter-widgets/base",
            "_view_module_version": "1.2.0",
            "_view_name": "StyleView",
            "description_width": ""
          }
        }
      }
    }
  },
  "nbformat": 4,
  "nbformat_minor": 0
}